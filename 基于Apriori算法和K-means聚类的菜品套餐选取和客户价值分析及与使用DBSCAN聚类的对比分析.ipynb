{
 "cells": [
  {
   "cell_type": "markdown",
   "metadata": {},
   "source": [
    "<a id=\"项目介绍\"></a>\n",
    "\n",
    "# 1.项目介绍 \n",
    "\n",
    "在当今信息时代的大背景下，餐饮业面临着前所未有的挑战与变革，其中\"四高一低\"现象尤为突出，即高昂的房租、人工、能源、原材料成本与逐渐压缩的利润空间。此外，行业竞争加剧，消费者需求日益多样化，加之食品安全、顾客满意度维护等压力，传统手工管理模式下的餐饮企业难以适应市场快速变化的需求。在此情境下，餐饮企业迫切需要寻找新的生存与发展之道，利用现代信息技术与创新手段提升运营效率，降低成本，增强顾客体验，实现可持续增长。\n",
    "\n",
    "菜品销售情况在一定程度上决定了企业是否能盈利，如何提高菜品销售量也是企业所面临的问题。制作套餐是现在企业提高销售量的一种经营方式，即组合销售，又被称为搭配销售，通常指将相关产品搭配在起成套销售的方式，组合销售的产品必须是消费者需要并且愿意购买的产品，从而突出组合销售的优点，给客户提供方便，并且提升产品销售量。\n"
   ]
  },
  {
   "cell_type": "code",
   "execution_count": 1,
   "metadata": {},
   "outputs": [],
   "source": [
    "import pandas as pd\n",
    "import numpy as np\n",
    "import matplotlib.pyplot as plt\n",
    "\n",
    "#用于对DateFrame数值进行标准化\n",
    "from sklearn.preprocessing import StandardScaler\n",
    "plt.rcParams['font.sans-serif']=['SimHei']\n"
   ]
  },
  {
   "cell_type": "markdown",
   "metadata": {},
   "source": [
    "<a id=\"数据读取与查看\" > </a>\n",
    "\n",
    "# 2. 数据读取与查看"
   ]
  },
  {
   "cell_type": "markdown",
   "metadata": {},
   "source": [
    "数据集来源于互联网。\n",
    "\n",
    "数据总共分为 客户信息表、菜品详情表、订单表、订单详情表 共四个数据集\n",
    "\n"
   ]
  },
  {
   "cell_type": "markdown",
   "metadata": {},
   "source": [
    "客户信息表"
   ]
  },
  {
   "cell_type": "code",
   "execution_count": 2,
   "metadata": {},
   "outputs": [
    {
     "name": "stdout",
     "output_type": "stream",
     "text": [
      "   USER_ID   MYID ACCOUNT     NAME  ORGANIZE_ID ORGANIZE_NAME  DUTY_ID   \n",
      "0        1  admin   超级管理员    admin          130           根目录      NaN  \\\n",
      "1      981    NaN      老师  teacher          328           统计班      NaN   \n",
      "2      982    NaN     叶亦凯       sx          328           统计班      NaN   \n",
      "3      983    NaN     邓彬彬      lyy          328           统计班      NaN   \n",
      "4      984    NaN     张建涛      zad          328           统计班      NaN   \n",
      "\n",
      "   TITLE_ID                          PASSWORD      EMAIL  ...           TEL   \n",
      "0       NaN  202cb962ac59075b964b07152d234b70  12@qq.com  ...  1.306543e+10  \\\n",
      "1       NaN  202cb962ac59075b964b07152d234b70        NaN  ...           NaN   \n",
      "2       NaN  202cb962ac59075b964b07152d234b70        NaN  ...  1.868888e+10   \n",
      "3       NaN  202cb962ac59075b964b07152d234b70        NaN  ...  1.868888e+10   \n",
      "4       NaN  202cb962ac59075b964b07152d234b70        NaN  ...  1.868888e+10   \n",
      "\n",
      "     stuNo           qq       weixin meal_arithmetic_id  arithmetic_name  sex   \n",
      "0       ab  398125079.0  398125079.0                NaN               22    男  \\\n",
      "1      NaN          NaN          NaN               87.0        基于物品的协同过滤  NaN   \n",
      "2  2017002          NaN          NaN               86.0             关联规则    男   \n",
      "3  2017003          NaN          NaN               86.0             关联规则    女   \n",
      "4  2017004          NaN          NaN               86.0             关联规则    男   \n",
      "\n",
      "    poo  address   age  \n",
      "0  广东广州     泰迪科技  23.0  \n",
      "1   NaN      NaN   NaN  \n",
      "2  广东广州       广州  21.0  \n",
      "3  广东广州       广州  21.0  \n",
      "4  广东广州       广州  22.0  \n",
      "\n",
      "[5 rows x 37 columns]\n",
      "734\n"
     ]
    }
   ],
   "source": [
    "#导入客户信息表\n",
    "users_august=pd.read_csv('./data/users.csv',encoding='gbk')\n",
    "print(users_august.head())\n",
    "print(len(users_august))"
   ]
  },
  {
   "cell_type": "markdown",
   "metadata": {},
   "source": [
    "字段说明：\n",
    "\n",
    "USER_ID\t用户ID ；$\\quad$ \n",
    "MYID\t用户自编码；$\\quad$ \n",
    "ACCOUNT\t账号；$\\quad$ \n",
    "NAME\t姓名；$\\quad$ \n",
    "ORGANIZE_ID\t组织代码；$\\quad$ \n",
    "ORGANIZE_NAME\t组织名称；$\\quad$ \n",
    "PASSWORD\t密码；$\\quad$ \n",
    "EMAIL\t电子邮箱；$\\quad$ \n",
    "LANG\t语言；$\\quad$ \n",
    "THEME\t样式；$\\quad$ \n",
    "FIRST_VISIT\t第一次登录；$\\quad$ \n",
    "PREVIOUS_VISIT\t上一次登录；$\\quad$ \n",
    "LAST_VISITS\t最后一次登录；$\\quad$ \n",
    "LOGIN_COUNT\t登录次数；$\\quad$ \n",
    "ISEMPLOYEE\t是否是职工；$\\quad$ \n",
    "STATUS\t状态；$\\quad$ \n",
    "IP\tIP地址；$\\quad$ \n",
    "DESCRIPTION\t备注；$\\quad$ \n",
    "QUESTION_ID\t问题代码；$\\quad$ \n",
    "ANSWER\t回复；$\\quad$ \n",
    "ISONLINE\t是否在线；$\\quad$ \n",
    "CREATED\t创造日期；$\\quad$ \n",
    "LASTMOD\t修改日期；$\\quad$ \n",
    "CREATER\t创建人；$\\quad$ \n",
    "MODIFYER\t修改人；$\\quad$ \n",
    "TEL\t电话；$\\quad$ \n",
    "stuNo\t学号；$\\quad$ \n",
    "qq\tQQ；$\\quad$ \n",
    "weixin\t微信；$\\quad$ \n",
    "meal_arithmetic_id\t算法ID；$\\quad$ \n",
    "arithmetic_name\t算法名称；$\\quad$ \n",
    "sex\t性别；$\\quad$ \n",
    "poo\t籍贯；$\\quad$ \n",
    "address\t地址；$\\quad$ \n",
    "age\t年龄；$\\quad$ \n"
   ]
  },
  {
   "cell_type": "markdown",
   "metadata": {},
   "source": [
    "菜品详情表"
   ]
  },
  {
   "cell_type": "code",
   "execution_count": 3,
   "metadata": {},
   "outputs": [
    {
     "name": "stdout",
     "output_type": "stream",
     "text": [
      "       id  dishes_class_id dishes_name  price  amt_discount  sortorder   \n",
      "0  610071             3610      42度海之蓝     99             0          0  \\\n",
      "1  609947             3613      北冰洋汽水       5             0          0   \n",
      "2  610068             3610     38度剑南春      80             0          0   \n",
      "3  610069             3610     50度古井贡酒     90             0          0   \n",
      "4  610070             3610    52度泸州老窖     159             0          0   \n",
      "\n",
      "   bar_code  cost  is_info_menu_item  balance_price  ...  weight  taste   \n",
      "0       NaN  50.0                NaN            NaN  ...       1      辣  \\\n",
      "1       NaN   2.0                NaN            NaN  ...       1     果味   \n",
      "2       NaN  30.0                NaN            NaN  ...       1     爽口   \n",
      "3       NaN  20.0                NaN            NaN  ...       1     爽口   \n",
      "4       NaN  85.0                NaN            NaN  ...       1     清香   \n",
      "\n",
      "  description        ingredients  label creation_method dishes_characteristic   \n",
      "0         NaN         高粱，水，大麦，豌豆     清香             NaN                   NaN  \\\n",
      "1         NaN               橙子，水     果味             NaN                   NaN   \n",
      "2         NaN           水，高粱，小麦等     浓香             NaN                   NaN   \n",
      "3         NaN  ，水，高粱，小麦，玉米，糯米，大米     浓香             NaN                   NaN   \n",
      "4         NaN              红皮糯高粱     清香             NaN                   NaN   \n",
      "\n",
      "  dept_name dishes_class_name  dept_id  \n",
      "0     统计17级               白酒类      330  \n",
      "1     统计17级               饮料类      330  \n",
      "2     统计17级               白酒类      330  \n",
      "3     统计17级               白酒类      330  \n",
      "4     统计17级               白酒类      330  \n",
      "\n",
      "[5 rows x 24 columns]\n",
      "143\n"
     ]
    }
   ],
   "source": [
    "#导入菜品详细表\n",
    "dishes_df=pd.read_csv('./data/meal_dishes_detail.csv')\n",
    "print(dishes_df.head())\n",
    "print(len(dishes_df))"
   ]
  },
  {
   "cell_type": "markdown",
   "metadata": {},
   "source": [
    "字段说明：\n",
    "\n",
    "id\t菜品ID ;$\\quad$ \n",
    "dishes_class_id\t类别ID ;$\\quad$ \n",
    "dishes_name\t菜品名称 ;$\\quad$ \n",
    "price\t菜品单价 ;$\\quad$ \n",
    "amt_discount\t折扣额度 ;$\\quad$ \n",
    "sortorder\t排序 ;$\\quad$ \n",
    "bar_code\t条码; $\\quad$ \n",
    "cost\t成本 ;$\\quad$ \n",
    "is_info_menu_item\t是信息菜单项 ;$\\quad$ \n",
    "balance_price\t抵消费用 ;$\\quad$ \n",
    "pinyin\t菜品拼音  ;$\\quad$ \n",
    "stock_count\t0：已售完，1：无限量，<0：可售分量 ;$\\quad$ \n",
    "picture_file\t图片文件 ;$\\quad$ \n",
    "recommend_percent\t推荐度 ;$\\quad$ \n",
    "weight\t份量 ;$\\quad$ \n",
    "taste\t口味 ;$\\quad$ \n",
    "creation_method\t制作方法 ;$\\quad$ \n",
    "description\t菜品描述 ;$\\quad$ \n",
    "ingredients\t食材 ;$\\quad$ \n",
    "label\t标签 ;$\\quad$ \n",
    "dishes_characteristic\t菜品特色 ;$\\quad$ \n",
    "dept_name\t部门名称 ;$\\quad$ \n",
    "dishes_class_name\t类别名称 ;$\\quad$ \n",
    "dept_id\t部门ID $\\quad$ \n"
   ]
  },
  {
   "cell_type": "markdown",
   "metadata": {},
   "source": [
    "订单表:"
   ]
  },
  {
   "cell_type": "code",
   "execution_count": 4,
   "metadata": {},
   "outputs": [
    {
     "name": "stdout",
     "output_type": "stream",
     "text": [
      "   info_id  emp_id  number_consumers  mode  dining_table_id   \n",
      "0      417    1442                 4   NaN             1501  \\\n",
      "1      301    1095                 3   NaN             1430   \n",
      "2      413    1147                 6   NaN             1488   \n",
      "3      415    1166                 4   NaN             1502   \n",
      "4      392    1094                10   NaN             1499   \n",
      "\n",
      "   dining_table_name  expenditure  dishes_count  accounts_payable   \n",
      "0               1022          165             5               165  \\\n",
      "1               1031          321             6               321   \n",
      "2               1009          854            15               854   \n",
      "3               1023          466            10               466   \n",
      "4               1020          704            24               704   \n",
      "\n",
      "      use_start_time  ...          lock_time cashier_id  pc_id  order_number   \n",
      "0  2016/8/1 11:05:36  ...  2016/8/1 11:11:46        NaN    NaN           NaN  \\\n",
      "1  2016/8/1 11:15:57  ...  2016/8/1 11:31:55        NaN    NaN           NaN   \n",
      "2  2016/8/1 12:42:52  ...  2016/8/1 12:54:37        NaN    NaN           NaN   \n",
      "3  2016/8/1 12:51:38  ...  2016/8/1 13:08:20        NaN    NaN           NaN   \n",
      "4  2016/8/1 12:58:44  ...  2016/8/1 13:07:16        NaN    NaN           NaN   \n",
      "\n",
      "   org_id  print_doc_bill_num  lock_table_info  order_status        phone   \n",
      "0     330                 NaN              NaN             1  18688880641  \\\n",
      "1     328                 NaN              NaN             1  18688880174   \n",
      "2     330                 NaN              NaN             1  18688880276   \n",
      "3     330                 NaN              NaN             1  18688880231   \n",
      "4     330                 NaN              NaN             1  18688880173   \n",
      "\n",
      "   name  \n",
      "0   苗宇怡  \n",
      "1    赵颖  \n",
      "2   徐毅凡  \n",
      "3   张大鹏  \n",
      "4   孙熙凯  \n",
      "\n",
      "[5 rows x 21 columns]\n",
      "945\n"
     ]
    }
   ],
   "source": [
    "#导入订单表\n",
    "info_august=pd.read_csv('./data/meal_order_info.csv')\n",
    "print(info_august.head())\n",
    "print(len(info_august))"
   ]
  },
  {
   "cell_type": "markdown",
   "metadata": {},
   "source": [
    "时间跨度为一个月，是2016.8.1-2016.9.1这一个月期间内的订单\n",
    "\n",
    "字段说明：\n",
    "info_id\t订单ID；$\\quad$ \n",
    "emp_id\t会员ID(指酒店的雇员)；$\\quad$ \n",
    "number_consumers\t消费人数；$\\quad$ \n",
    "mode\t消费方式；$\\quad$ \n",
    "dining_table_id\t桌子ID；$\\quad$ \n",
    "dining_table_name\t桌子名称；$\\quad$ \n",
    "expenditure\t消费金额；$\\quad$ \n",
    "dishes_count\t总菜品数；$\\quad$ \n",
    "accounts_payable\t付费金额；$\\quad$ \n",
    "use_start_time\t开始时间；$\\quad$ \n",
    "check_closed\t支付结束；$\\quad$ \n",
    "lock_time\t锁单时间；$\\quad$ \n",
    "cashier_id\t收银ID；$\\quad$ \n",
    "pc_id\t终端ID；$\\quad$ \n",
    "order_number\t订单号；$\\quad$ \n",
    "org_id\t门店ID(org_info.id)；$\\quad$ \n",
    "print_doc_bill_num\t打印doc帐单的编码；$\\quad$ \n",
    "lock_table_info\t桌子关闭信息；$\\quad$ \n",
    "order_status\t0:未结算；1:结算；2：已锁单；$\\quad$ \n",
    "phone\t电话；$\\quad$ \n",
    "name\t名字$\\quad$ \n"
   ]
  },
  {
   "cell_type": "markdown",
   "metadata": {},
   "source": [
    "订单详情表："
   ]
  },
  {
   "cell_type": "code",
   "execution_count": 5,
   "metadata": {},
   "outputs": [
    {
     "name": "stdout",
     "output_type": "stream",
     "text": [
      "   detail_id  order_id  dishes_id  logicprn_name  parent_class_name   \n",
      "0        754       137     610047            NaN                NaN  \\\n",
      "1        753       137     609970            NaN                NaN   \n",
      "2        758       137     609945            NaN                NaN   \n",
      "3        755       137     609992            NaN                NaN   \n",
      "4        759       137     610010            NaN                NaN   \n",
      "\n",
      "       dishes_name  itemis_add  counts  amounts  cost   place_order_time   \n",
      "0          西瓜胡萝卜沙拉           0       1       26   NaN  2016/8/3 14:01:13  \\\n",
      "1            麻辣小龙虾           0       1       99   NaN  2016/8/3 14:01:47   \n",
      "2  农夫山泉NFC果汁100%橙汁           0       1        6   NaN  2016/8/3 14:02:11   \n",
      "3        番茄炖牛腩\\r\\n           0       1       35   NaN  2016/8/3 14:02:37   \n",
      "4            白饭/小碗           0       4        1   NaN  2016/8/3 14:04:55   \n",
      "\n",
      "   discount_amt  discount_reason  kick_back  add_inprice  add_info  bar_code   \n",
      "0           NaN              NaN        NaN            0       NaN       NaN  \\\n",
      "1           NaN              NaN        NaN            0       NaN       NaN   \n",
      "2           NaN              NaN        NaN            0       NaN       NaN   \n",
      "3           NaN              NaN        NaN            0       NaN       NaN   \n",
      "4           NaN              NaN        NaN            0       NaN       NaN   \n",
      "\n",
      "       picture_file  emp_id  \n",
      "0  caipu/301001.jpg    1248  \n",
      "1  caipu/101006.jpg    1248  \n",
      "2  caipu/404001.jpg    1248  \n",
      "3  caipu/201002.jpg    1248  \n",
      "4  caipu/601004.jpg    1248  \n",
      "10037\n"
     ]
    }
   ],
   "source": [
    "#导入订单详情表\n",
    "order_detail_df=pd.read_csv('./data/meal_order_detail.csv')\n",
    "print(order_detail_df.head())\n",
    "print(len(order_detail_df))"
   ]
  },
  {
   "cell_type": "markdown",
   "metadata": {},
   "source": [
    "字段说明:\n",
    "\n",
    "detail_id\t订单详情ID；$\\quad$ \n",
    "order_id\t订单ID；$\\quad$ \n",
    "dishes_id\t菜品ID；$\\quad$ \n",
    "logicprn_name\t类别名称；$\\quad$ \n",
    "parent_class_name\t父类名称；$\\quad$ \n",
    "dishes_name\t菜品名称；$\\quad$ \n",
    "itemis_add\t是否为添加菜；$\\quad$ \n",
    "counts\t数量；$\\quad$ \n",
    "amounts\t销售金额；$\\quad$ \n",
    "cost\t成本；$\\quad$ \n",
    "place_order_time\t点餐时间；$\\quad$ \n",
    "discount_amt\t折扣额度；$\\quad$ \n",
    "discount_reason\t折扣说明；$\\quad$ \n",
    "kick_back\t回扣；$\\quad$ \n",
    "add_inprice\t添加价格；$\\quad$ \n",
    "add_info\t添加信息；$\\quad$ \n",
    "bar_code\t条形码；$\\quad$ \n",
    "picture_file\t图片；$\\quad$ \n",
    "emp_id\t会员ID；$\\quad$ \n"
   ]
  },
  {
   "cell_type": "markdown",
   "metadata": {},
   "source": [
    "<a id=\"数据处理\"></a>\n",
    "\n",
    "# 3.数据探索与处理\n",
    "\n",
    "\n",
    "\n"
   ]
  },
  {
   "cell_type": "markdown",
   "metadata": {},
   "source": [
    "<a id=\"3.1\"></a>\n",
    "\n",
    "## 3.1 数据预处理\n",
    "\n",
    "\n"
   ]
  },
  {
   "cell_type": "markdown",
   "metadata": {},
   "source": [
    "先将上面四个表数据 客户信息表 users_august、菜品详情表 dishes_df、订单表 info_august、订单详情表 order_detail_df 进行重复的检查和删除\n",
    "\n",
    "\n",
    "而对于缺失，由于数据集中的缺失对核心数据的使用不影响，因此可以不用统一处理，遇见了再单独处理"
   ]
  },
  {
   "cell_type": "markdown",
   "metadata": {},
   "source": [
    "<a id=\"a\"></a>\n",
    "##### 重复值处理、缺失值处理"
   ]
  },
  {
   "cell_type": "code",
   "execution_count": 6,
   "metadata": {},
   "outputs": [],
   "source": [
    "# 删除重复数据\n",
    "users_august.drop_duplicates(inplace=True)\n",
    "dishes_df.drop_duplicates(inplace=True)\n",
    "info_august.drop_duplicates(inplace=True)\n",
    "order_detail_df.drop_duplicates(inplace=True)\n",
    "\n"
   ]
  },
  {
   "cell_type": "markdown",
   "metadata": {},
   "source": [
    "处理数据缺失值与异常值与重复值 \n",
    "通过对数据观察发现只有订单状态为1的才是有效订单，所以订单表只提取订单状态为1的订单。而对于客户价值分析中，由于需要用到最后一次消费时间，则需要在有效订单的基础上，将最后一次用餐时间为空的数据进行删除。"
   ]
  },
  {
   "cell_type": "code",
   "execution_count": 7,
   "metadata": {},
   "outputs": [
    {
     "name": "stdout",
     "output_type": "stream",
     "text": [
      "提取订单状态为1的数据维数: (945, 21)\n"
     ]
    }
   ],
   "source": [
    "#客户价值分析预处理:\n",
    "\n",
    "#对于用户信息表 users_august\n",
    "#导入订单表 info_august\n",
    "print('提取订单状态为1的数据维数:',info_august.shape)"
   ]
  },
  {
   "cell_type": "markdown",
   "metadata": {},
   "source": [
    "对于订单表数据，有效数据为正常状态的才算有效：\n",
    "\n",
    "订单表存在未完成的订单,如订单状态0 /2,且存在其不相关、弱相关或冗余的特征 \n",
    "\n",
    "(这两者订单可能未完成，具有不确定性，不适合作为分析数据)因此需要进行预处理\n"
   ]
  },
  {
   "cell_type": "markdown",
   "metadata": {},
   "source": [
    "1.对用户数据进行预处理(去重、去缺失、去异常)\n",
    "\n",
    "2.提取用户的最后一次的用餐时间，为后面的客户价值分析进行预处理"
   ]
  },
  {
   "cell_type": "code",
   "execution_count": 8,
   "metadata": {},
   "outputs": [
    {
     "name": "stdout",
     "output_type": "stream",
     "text": [
      "提取订单状态为1的数据维数: (933, 21)\n",
      "   info_id  emp_id  number_consumers  mode  dining_table_id   \n",
      "0      417    1442                 4   NaN             1501  \\\n",
      "1      301    1095                 3   NaN             1430   \n",
      "2      413    1147                 6   NaN             1488   \n",
      "3      415    1166                 4   NaN             1502   \n",
      "4      392    1094                10   NaN             1499   \n",
      "\n",
      "   dining_table_name  expenditure  dishes_count  accounts_payable   \n",
      "0               1022          165             5               165  \\\n",
      "1               1031          321             6               321   \n",
      "2               1009          854            15               854   \n",
      "3               1023          466            10               466   \n",
      "4               1020          704            24               704   \n",
      "\n",
      "      use_start_time  ...          lock_time cashier_id  pc_id  order_number   \n",
      "0  2016/8/1 11:05:36  ...  2016/8/1 11:11:46        NaN    NaN           NaN  \\\n",
      "1  2016/8/1 11:15:57  ...  2016/8/1 11:31:55        NaN    NaN           NaN   \n",
      "2  2016/8/1 12:42:52  ...  2016/8/1 12:54:37        NaN    NaN           NaN   \n",
      "3  2016/8/1 12:51:38  ...  2016/8/1 13:08:20        NaN    NaN           NaN   \n",
      "4  2016/8/1 12:58:44  ...  2016/8/1 13:07:16        NaN    NaN           NaN   \n",
      "\n",
      "   org_id  print_doc_bill_num  lock_table_info  order_status        phone   \n",
      "0     330                 NaN              NaN             1  18688880641  \\\n",
      "1     328                 NaN              NaN             1  18688880174   \n",
      "2     330                 NaN              NaN             1  18688880276   \n",
      "3     330                 NaN              NaN             1  18688880231   \n",
      "4     330                 NaN              NaN             1  18688880173   \n",
      "\n",
      "   name  \n",
      "0   苗宇怡  \n",
      "1    赵颖  \n",
      "2   徐毅凡  \n",
      "3   张大鹏  \n",
      "4   孙熙凯  \n",
      "\n",
      "[5 rows x 21 columns]\n",
      "删除缺失值后的数据维数: (558, 37)\n",
      "删除重复值后的数据维数: (558, 37)\n"
     ]
    }
   ],
   "source": [
    "#对订单表info_august 进行异常值处理，提取出有效值\n",
    "\n",
    "#提取订单状态为1的数据（即已结算订单）\n",
    "info_august_new = info_august[info_august['order_status'].isin([1])]\n",
    "print('提取订单状态为1的数据维数:',info_august_new.shape)\n",
    "# # 重置索引\n",
    "info_august_new = info_august_new.reset_index(drop=True)\n",
    "\n",
    "# 匹配用户的最后一次用餐时间\n",
    "for i in range(1, len(info_august_new)):\n",
    "    num = users_august[ users_august['USER_ID'] == \n",
    "           info_august_new.iloc[i-1, 1] ].index.tolist()\n",
    "    #将订单表中匹配记录的最后一次用餐时间更新到客户信息表中对应用户的‘LAST_VISITS’字段。\n",
    "    users_august.iloc[num[0], 14] = info_august_new.iloc[i-1, 9]\n",
    "    users_august.iloc[num[0], 14] = info_august_new.iloc[i-1, 9]\n",
    "#查看订单数据信息\n",
    "print(info_august_new.head())\n",
    "\n",
    "\n",
    "user = users_august\n",
    "#删除缺失值\n",
    "user['LAST_VISITS'] = user['LAST_VISITS'].fillna(999)\n",
    "user = user.drop(user[user['LAST_VISITS'] == 999].index.tolist())\n",
    "\n",
    "print('删除缺失值后的数据维数:',user.shape)\n",
    "user.drop_duplicates(inplace=True)\n",
    "print('删除重复值后的数据维数:',user.shape)\n",
    "\n",
    "#保留客户id、姓名、第一次用餐 和最后一次用餐时间\n",
    "user = user.iloc[:, [0, 2, 12, 14]]"
   ]
  },
  {
   "cell_type": "markdown",
   "metadata": {},
   "source": [
    "由代码运行结果可知，原始数据meal_order_info订单表 中945条记录，删除异常值后还剩下 933条记录，删除缺失值后还剩下 558条记录。"
   ]
  },
  {
   "cell_type": "markdown",
   "metadata": {},
   "source": [
    "<a id=\"3.2\"></a>\n",
    "\n",
    "## 3.2 数据探索与可视化"
   ]
  },
  {
   "cell_type": "markdown",
   "metadata": {},
   "source": [
    "画出一个双Y轴折线图，判断时间、每日消费人数、每日营业额的关系"
   ]
  },
  {
   "cell_type": "markdown",
   "metadata": {},
   "source": [
    "读取订单数据，判断餐厅这一个月的营业情况，对数据进行可视化"
   ]
  },
  {
   "cell_type": "code",
   "execution_count": 9,
   "metadata": {},
   "outputs": [
    {
     "data": {
      "image/png": "[encoded data removed]",
      "text/plain": [
       "<Figure size 800x600 with 2 Axes>"
      ]
     },
     "metadata": {},
     "output_type": "display_data"
    }
   ],
   "source": [
    "# 读取订单数据  info_august\n",
    "order_info = pd.read_csv('./data/meal_order_info.csv')\n",
    "#删除重复\n",
    "order_info.drop_duplicates(inplace=True)\n",
    "\n",
    "\n",
    "order_info['use_start_time'] = pd.to_datetime(order_info['use_start_time'])\n",
    "\n",
    "# 每日用餐人数和营业额\n",
    "daily_stats = order_info.groupby(order_info['use_start_time'].dt.date).agg({'number_consumers':'sum', 'expenditure':'sum'})\n",
    "\n",
    "# 创建一个图形对象\n",
    "fig, ax1 = plt.subplots(figsize=(8, 6))\n",
    "\n",
    "# 绘制第一个子图（每日消费人数）\n",
    "color = '#4a90e2'  # 更暗一点的蓝色\n",
    "ax1.set_xlabel('日期')\n",
    "ax1.set_ylabel('消费者人数/人', color=color)\n",
    "ax1.plot(daily_stats.index, daily_stats['number_consumers'], label='每日消费人数', color=color)\n",
    "ax1.tick_params(axis='y', labelcolor=color)\n",
    "ax1.legend(loc='upper left')\n",
    "\n",
    "# 创建第二个坐标轴用于绘制第二个变量（每日营业额）\n",
    "ax2 = ax1.twinx()\n",
    "color = '#d9534f'  # 更暗一点的红色\n",
    "ax2.set_ylabel('营业额/元', color=color)\n",
    "ax2.plot(daily_stats.index, daily_stats['expenditure'], label='每日营业额', color=color, linestyle='--')\n",
    "ax2.tick_params(axis='y', labelcolor=color)\n",
    "ax2.legend(loc='upper right')\n",
    "\n",
    "# 设置标题和旋转x轴刻度\n",
    "ax1.set_title('每日用餐人数和营业额')\n",
    "plt.xticks(rotation=45)\n",
    "\n",
    "# 添加网格线和美化布局\n",
    "ax1.grid(True, linestyle='--', alpha=0.5)\n",
    "ax2.grid(False)\n",
    "\n",
    "plt.tight_layout()\n",
    "\n",
    "# 显示图表\n",
    "plt.show()"
   ]
  },
  {
   "cell_type": "markdown",
   "metadata": {},
   "source": [
    "由图可知，每日营业额与用餐人数存在正比关系，并且周末的用餐人数和营业额大增，工作日的用餐人数和营业额相对较低。"
   ]
  },
  {
   "cell_type": "markdown",
   "metadata": {},
   "source": [
    "每餐订单的价格分布、菜品价格的分布来查看餐厅各信息，且使用双子图subplot\n",
    "\n",
    "每餐订单的价格：将订单表的价格进行分组，求出不同价格在这一个月分别有多少个订单，然后用histplot 求出其分布的直方图和核密度曲线\n",
    "\n",
    "菜品价格的分布图：将菜品详细表的价格进行分组，然后用histplot 求出其分布的直方图和核密度曲线\n",
    "\n"
   ]
  },
  {
   "cell_type": "code",
   "execution_count": 10,
   "metadata": {},
   "outputs": [
    {
     "data": {
      "image/png": "[encoded data removed]",
      "text/plain": [
       "<Figure size 1200x500 with 2 Axes>"
      ]
     },
     "metadata": {},
     "output_type": "display_data"
    }
   ],
   "source": [
    "import matplotlib.pyplot as plt\n",
    "import seaborn as sns\n",
    "# 设置matplotlib不显示警告信息\n",
    "import warnings\n",
    "warnings.filterwarnings(\"ignore\")\n",
    "fig, axs = plt.subplots(1, 2, figsize=(12, 5))  # 1行2列\n",
    "\n",
    "#每餐订单的价格分布:  info_august\n",
    "sns.histplot(info_august['accounts_payable'], kde=True, color=\"skyblue\", ax=axs[0])\n",
    "axs[0].set_xlabel('消费价格/元')\n",
    "axs[0].set_ylabel('订单数')\n",
    "axs[0].set_title('客户消费订单金额分布图')\n",
    "\n",
    "\n",
    "#菜品价格分布: dishes_df\n",
    "sns.histplot(dishes_df['price'], kde=True,color=\"steelblue\", ax=axs[1])\n",
    "axs[1].set_xlabel('菜品价格/元')\n",
    "axs[1].set_ylabel('菜品数量')\n",
    "axs[1].set_title('菜品价格分布图')\n",
    "\n",
    "# 调整子图之间的间距\n",
    "plt.tight_layout()\n",
    "plt.show()"
   ]
  },
  {
   "cell_type": "markdown",
   "metadata": {},
   "source": [
    "客户消费订单金额分布：从左边的直方图可以看出，大部分客户的消费订单金额集中在200元到600元的范围内，其中400元左右达到峰值。随着金额的增加，订单数量逐渐减少，显示出一种典型的正态分布特征。\n",
    "\n",
    "菜品价格分布：右边的直方图显示了不同菜品的平均价格分布情况。大多数菜品的平均价格在25元到60元之间，其中40元左右的价格区间内菜品数量最多，形成了一个明显的峰值。同样地，高价位的菜品数量较少，呈现出类似的正态分布特点。"
   ]
  },
  {
   "cell_type": "markdown",
   "metadata": {},
   "source": [
    "<a id=\"3.3\"></a>\n",
    "\n",
    "## 3.3 属性构建"
   ]
  },
  {
   "cell_type": "markdown",
   "metadata": {},
   "source": [
    "<a id=\"3.3.1\"></a>\n",
    "\n",
    "### 3.3.1 菜品热销度和毛利率的计算:\n",
    "\n",
    "热销度的计算公式如下：\n",
    "\n",
    "$$\\gamma_\\text{热销度评分 }=\\frac{Q_i-Q_{\\min}}{Q_{\\max}-Q_{\\min}}$$\n",
    "\n",
    "其中，$Q_i$为某项菜品的销售份数；$Q_\\mathrm{max}$为该餐饮企业最近$30$天内有销售记录的菜品中的最大销售份数；$Q_\\mathrm{min}$ 为该\n",
    "餐饮企业最近 30 天内有销售记录的菜品中的最小销售份数。\n",
    "\n",
    "$$ $$\n",
    "\n",
    "毛利率（Gross Profit Margin）是毛利与销售收入（或营业收入）的占比，其中毛利是菜品单价和与菜品相对应的成本之间的差额，计算公式如下：\n",
    "\n",
    "$$\\gamma_\\text{毛利率}=\\frac{\\rho_\\text{单价}-\\rho_\\text{成本}}{\\rho_\\text{单价}}$$\n",
    "\n",
    "其中，$\\gamma_{\\text{毛利率}}$为某项菜品的毛利率修正系数，其值范围为 0.1 到 1之间，当值为负时设为 0.1; $\\rho_{\\text{单价}}$ 为某项菜品的单价；$\\rho_{\\text{成本}}$为某项菜品的估计成本。"
   ]
  },
  {
   "cell_type": "markdown",
   "metadata": {},
   "source": [
    "所以我们需要将订单商品，进行分组提取，分别计算菜品究竟售出了多少份"
   ]
  },
  {
   "cell_type": "markdown",
   "metadata": {},
   "source": [
    "因此，读取订单详情、菜品详情，分别计算菜品的热度、毛利率等数值"
   ]
  },
  {
   "cell_type": "markdown",
   "metadata": {},
   "source": [
    "<a id=\"b\"></a>\n",
    "\n",
    "#### 数据链接与合并、数据分组聚合"
   ]
  },
  {
   "cell_type": "code",
   "execution_count": 11,
   "metadata": {},
   "outputs": [
    {
     "data": {
      "text/html": [
       "<div>\n",
       "<style scoped>\n",
       "    .dataframe tbody tr th:only-of-type {\n",
       "        vertical-align: middle;\n",
       "    }\n",
       "\n",
       "    .dataframe tbody tr th {\n",
       "        vertical-align: top;\n",
       "    }\n",
       "\n",
       "    .dataframe thead th {\n",
       "        text-align: right;\n",
       "    }\n",
       "</style>\n",
       "<table border=\"1\" class=\"dataframe\">\n",
       "  <thead>\n",
       "    <tr style=\"text-align: right;\">\n",
       "      <th></th>\n",
       "      <th>dishes_name</th>\n",
       "      <th>price</th>\n",
       "      <th>cost</th>\n",
       "      <th>counts</th>\n",
       "    </tr>\n",
       "  </thead>\n",
       "  <tbody>\n",
       "    <tr>\n",
       "      <th>0</th>\n",
       "      <td>42度海之蓝</td>\n",
       "      <td>99</td>\n",
       "      <td>50.0</td>\n",
       "      <td>25</td>\n",
       "    </tr>\n",
       "    <tr>\n",
       "      <th>1</th>\n",
       "      <td>北冰洋汽水</td>\n",
       "      <td>5</td>\n",
       "      <td>2.0</td>\n",
       "      <td>134</td>\n",
       "    </tr>\n",
       "    <tr>\n",
       "      <th>2</th>\n",
       "      <td>38度剑南春</td>\n",
       "      <td>80</td>\n",
       "      <td>30.0</td>\n",
       "      <td>24</td>\n",
       "    </tr>\n",
       "    <tr>\n",
       "      <th>3</th>\n",
       "      <td>50度古井贡酒</td>\n",
       "      <td>90</td>\n",
       "      <td>20.0</td>\n",
       "      <td>21</td>\n",
       "    </tr>\n",
       "    <tr>\n",
       "      <th>4</th>\n",
       "      <td>52度泸州老窖</td>\n",
       "      <td>159</td>\n",
       "      <td>85.0</td>\n",
       "      <td>22</td>\n",
       "    </tr>\n",
       "    <tr>\n",
       "      <th>...</th>\n",
       "      <td>...</td>\n",
       "      <td>...</td>\n",
       "      <td>...</td>\n",
       "      <td>...</td>\n",
       "    </tr>\n",
       "    <tr>\n",
       "      <th>138</th>\n",
       "      <td>纸杯蛋糕</td>\n",
       "      <td>8</td>\n",
       "      <td>3.0</td>\n",
       "      <td>41</td>\n",
       "    </tr>\n",
       "    <tr>\n",
       "      <th>139</th>\n",
       "      <td>重庆特色油烧兔</td>\n",
       "      <td>69</td>\n",
       "      <td>42.0</td>\n",
       "      <td>29</td>\n",
       "    </tr>\n",
       "    <tr>\n",
       "      <th>140</th>\n",
       "      <td>孜然羊排</td>\n",
       "      <td>88</td>\n",
       "      <td>49.0</td>\n",
       "      <td>132</td>\n",
       "    </tr>\n",
       "    <tr>\n",
       "      <th>141</th>\n",
       "      <td>紫薯面包卷</td>\n",
       "      <td>20</td>\n",
       "      <td>10.0</td>\n",
       "      <td>56</td>\n",
       "    </tr>\n",
       "    <tr>\n",
       "      <th>142</th>\n",
       "      <td>自制猪肉脯</td>\n",
       "      <td>48</td>\n",
       "      <td>29.0</td>\n",
       "      <td>136</td>\n",
       "    </tr>\n",
       "  </tbody>\n",
       "</table>\n",
       "<p>143 rows × 4 columns</p>\n",
       "</div>"
      ],
      "text/plain": [
       "    dishes_name  price  cost  counts\n",
       "0        42度海之蓝     99  50.0      25\n",
       "1        北冰洋汽水       5   2.0     134\n",
       "2       38度剑南春      80  30.0      24\n",
       "3       50度古井贡酒     90  20.0      21\n",
       "4      52度泸州老窖     159  85.0      22\n",
       "..          ...    ...   ...     ...\n",
       "138        纸杯蛋糕      8   3.0      41\n",
       "139     重庆特色油烧兔     69  42.0      29\n",
       "140        孜然羊排     88  49.0     132\n",
       "141       紫薯面包卷     20  10.0      56\n",
       "142       自制猪肉脯     48  29.0     136\n",
       "\n",
       "[143 rows x 4 columns]"
      ]
     },
     "execution_count": 11,
     "metadata": {},
     "output_type": "execute_result"
    }
   ],
   "source": [
    "#菜品热度:\n",
    "\n",
    "# 绘制柱形图分析菜品热销度\n",
    "# 已有每个菜品的销售份数数据\n",
    "\n",
    "#读取订单详情数据  order_detail_df\n",
    "\n",
    "#菜品详情 dishes_df\n",
    "\n",
    "dishes_price=dishes_df[['dishes_name','price','cost']]\n",
    "grouped_counts =order_detail_df.groupby('dishes_name')['counts'].sum().reset_index()\n",
    "\n",
    "#然后将商品单价和成本也进行关联:\n",
    "grouped_counts=pd.merge(dishes_price,grouped_counts,on='dishes_name')\n",
    "grouped_counts\n"
   ]
  },
  {
   "cell_type": "code",
   "execution_count": 12,
   "metadata": {},
   "outputs": [
    {
     "data": {
      "text/html": [
       "\n",
       "<script>\n",
       "    require.config({\n",
       "        paths: {\n",
       "            'echarts':'https://assets.pyecharts.org/assets/v5/echarts.min'\n",
       "        }\n",
       "    });\n",
       "</script>\n",
       "\n",
       "        <div id=\"22e798933a3b432d9dd8d81cef54603a\" style=\"width:1000px; height:600px;\"></div>\n",
       "\n",
       "<script>\n",
       "        require(['echarts'], function(echarts) {\n",
       "                var chart_22e798933a3b432d9dd8d81cef54603a = echarts.init(\n",
       "                    document.getElementById('22e798933a3b432d9dd8d81cef54603a'), 'white', {renderer: 'canvas'});\n",
       "                var option_22e798933a3b432d9dd8d81cef54603a = {\n",
       "    \"backgroundColor\": \"#f5f5f5\",\n",
       "    \"animation\": true,\n",
       "    \"animationThreshold\": 2000,\n",
       "    \"animationDuration\": 1000,\n",
       "    \"animationEasing\": \"cubicOut\",\n",
       "    \"animationDelay\": 0,\n",
       "    \"animationDurationUpdate\": 300,\n",
       "    \"animationEasingUpdate\": \"cubicOut\",\n",
       "    \"animationDelayUpdate\": 0,\n",
       "    \"aria\": {\n",
       "        \"enabled\": false\n",
       "    },\n",
       "    \"color\": [\n",
       "        \"#5470c6\",\n",
       "        \"#91cc75\",\n",
       "        \"#fac858\",\n",
       "        \"#ee6666\",\n",
       "        \"#73c0de\",\n",
       "        \"#3ba272\",\n",
       "        \"#fc8452\",\n",
       "        \"#9a60b4\",\n",
       "        \"#ea7ccc\"\n",
       "    ],\n",
       "    \"series\": [\n",
       "        {\n",
       "            \"type\": \"bar\",\n",
       "            \"name\": \"\\u83dc\\u54c1\\u4ef7\\u683c\",\n",
       "            \"legendHoverLink\": true,\n",
       "            \"data\": [\n",
       "                1,\n",
       "                10,\n",
       "                27,\n",
       "                38,\n",
       "                99,\n",
       "                35,\n",
       "                8,\n",
       "                175,\n",
       "                58,\n",
       "                89\n",
       "            ],\n",
       "            \"realtimeSort\": false,\n",
       "            \"showBackground\": false,\n",
       "            \"stackStrategy\": \"samesign\",\n",
       "            \"cursor\": \"pointer\",\n",
       "            \"barMinHeight\": 0,\n",
       "            \"barCategoryGap\": \"20%\",\n",
       "            \"barGap\": \"30%\",\n",
       "            \"large\": false,\n",
       "            \"largeThreshold\": 400,\n",
       "            \"seriesLayoutBy\": \"column\",\n",
       "            \"datasetIndex\": 0,\n",
       "            \"clip\": true,\n",
       "            \"zlevel\": 0,\n",
       "            \"z\": 2,\n",
       "            \"label\": {\n",
       "                \"show\": false,\n",
       "                \"margin\": 8\n",
       "            },\n",
       "            \"rippleEffect\": {\n",
       "                \"show\": true,\n",
       "                \"brushType\": \"stroke\",\n",
       "                \"scale\": 2.5,\n",
       "                \"period\": 4\n",
       "            }\n",
       "        },\n",
       "        {\n",
       "            \"type\": \"line\",\n",
       "            \"name\": \"\\u9910\\u54c1\\u70ed\\u5ea6\",\n",
       "            \"connectNulls\": false,\n",
       "            \"xAxisIndex\": 0,\n",
       "            \"yAxisIndex\": 1,\n",
       "            \"symbolSize\": 4,\n",
       "            \"showSymbol\": true,\n",
       "            \"smooth\": false,\n",
       "            \"clip\": true,\n",
       "            \"step\": false,\n",
       "            \"data\": [\n",
       "                [\n",
       "                    \"\\u767d\\u996d/\\u5c0f\\u7897\",\n",
       "                    1.0\n",
       "                ],\n",
       "                [\n",
       "                    \"\\u767d\\u996d/\\u5927\\u7897\",\n",
       "                    0.77\n",
       "                ],\n",
       "                [\n",
       "                    \"\\u51c9\\u62cc\\u83e0\\u83dc\",\n",
       "                    0.48\n",
       "                ],\n",
       "                [\n",
       "                    \"\\u8c37\\u7a3b\\u5c0f\\u5e84 \",\n",
       "                    0.43\n",
       "                ],\n",
       "                [\n",
       "                    \"\\u9ebb\\u8fa3\\u5c0f\\u9f99\\u867e\",\n",
       "                    0.39\n",
       "                ],\n",
       "                [\n",
       "                    \"\\u4e94\\u8272\\u7cef\\u7c73\\u996d(\\u4e03\\u8272)\",\n",
       "                    0.35\n",
       "                ],\n",
       "                [\n",
       "                    \"\\u86cb\\u631e\",\n",
       "                    0.34\n",
       "                ],\n",
       "                [\n",
       "                    \"\\u829d\\u58eb\\u70e9\\u6ce2\\u58eb\\u987f\\u9f99\\u867e\",\n",
       "                    0.34\n",
       "                ],\n",
       "                [\n",
       "                    \"\\u8fa3\\u7092\\u9c7f\\u9c7c\",\n",
       "                    0.34\n",
       "                ],\n",
       "                [\n",
       "                    \"\\u9999\\u9165\\u4e24\\u5403\\u5927\\u867e\",\n",
       "                    0.32\n",
       "                ]\n",
       "            ],\n",
       "            \"hoverAnimation\": true,\n",
       "            \"label\": {\n",
       "                \"show\": false,\n",
       "                \"margin\": 8\n",
       "            },\n",
       "            \"logBase\": 10,\n",
       "            \"seriesLayoutBy\": \"column\",\n",
       "            \"lineStyle\": {\n",
       "                \"show\": true,\n",
       "                \"width\": 1,\n",
       "                \"opacity\": 1,\n",
       "                \"curveness\": 0,\n",
       "                \"type\": \"solid\"\n",
       "            },\n",
       "            \"areaStyle\": {\n",
       "                \"opacity\": 0\n",
       "            },\n",
       "            \"zlevel\": 0,\n",
       "            \"z\": 0,\n",
       "            \"rippleEffect\": {\n",
       "                \"show\": true,\n",
       "                \"brushType\": \"stroke\",\n",
       "                \"scale\": 2.5,\n",
       "                \"period\": 4\n",
       "            }\n",
       "        }\n",
       "    ],\n",
       "    \"legend\": [\n",
       "        {\n",
       "            \"data\": [\n",
       "                \"\\u83dc\\u54c1\\u4ef7\\u683c\",\n",
       "                \"\\u9910\\u54c1\\u70ed\\u5ea6\"\n",
       "            ],\n",
       "            \"selected\": {},\n",
       "            \"show\": true,\n",
       "            \"padding\": 5,\n",
       "            \"itemGap\": 10,\n",
       "            \"itemWidth\": 25,\n",
       "            \"itemHeight\": 14,\n",
       "            \"backgroundColor\": \"transparent\",\n",
       "            \"borderColor\": \"#ccc\",\n",
       "            \"borderWidth\": 1,\n",
       "            \"borderRadius\": 0,\n",
       "            \"pageButtonItemGap\": 5,\n",
       "            \"pageButtonPosition\": \"end\",\n",
       "            \"pageFormatter\": \"{current}/{total}\",\n",
       "            \"pageIconColor\": \"#2f4554\",\n",
       "            \"pageIconInactiveColor\": \"#aaa\",\n",
       "            \"pageIconSize\": 15,\n",
       "            \"animationDurationUpdate\": 800,\n",
       "            \"selector\": false,\n",
       "            \"selectorPosition\": \"auto\",\n",
       "            \"selectorItemGap\": 7,\n",
       "            \"selectorButtonGap\": 10\n",
       "        }\n",
       "    ],\n",
       "    \"tooltip\": {\n",
       "        \"show\": true,\n",
       "        \"trigger\": \"item\",\n",
       "        \"triggerOn\": \"mousemove|click\",\n",
       "        \"axisPointer\": {\n",
       "            \"type\": \"line\"\n",
       "        },\n",
       "        \"showContent\": true,\n",
       "        \"alwaysShowContent\": false,\n",
       "        \"showDelay\": 0,\n",
       "        \"hideDelay\": 100,\n",
       "        \"enterable\": false,\n",
       "        \"confine\": false,\n",
       "        \"appendToBody\": false,\n",
       "        \"transitionDuration\": 0.4,\n",
       "        \"textStyle\": {\n",
       "            \"fontSize\": 14\n",
       "        },\n",
       "        \"borderWidth\": 0,\n",
       "        \"padding\": 5,\n",
       "        \"order\": \"seriesAsc\"\n",
       "    },\n",
       "    \"xAxis\": [\n",
       "        {\n",
       "            \"show\": true,\n",
       "            \"scale\": false,\n",
       "            \"nameLocation\": \"end\",\n",
       "            \"nameGap\": 15,\n",
       "            \"gridIndex\": 0,\n",
       "            \"axisLabel\": {\n",
       "                \"show\": true,\n",
       "                \"rotate\": 45,\n",
       "                \"margin\": 8,\n",
       "                \"interval\": 0\n",
       "            },\n",
       "            \"inverse\": false,\n",
       "            \"offset\": 0,\n",
       "            \"splitNumber\": 5,\n",
       "            \"minInterval\": 0,\n",
       "            \"splitLine\": {\n",
       "                \"show\": true,\n",
       "                \"lineStyle\": {\n",
       "                    \"show\": true,\n",
       "                    \"width\": 1,\n",
       "                    \"opacity\": 1,\n",
       "                    \"curveness\": 0,\n",
       "                    \"type\": \"solid\"\n",
       "                }\n",
       "            },\n",
       "            \"data\": [\n",
       "                \"\\u767d\\u996d/\\u5c0f\\u7897\",\n",
       "                \"\\u767d\\u996d/\\u5927\\u7897\",\n",
       "                \"\\u51c9\\u62cc\\u83e0\\u83dc\",\n",
       "                \"\\u8c37\\u7a3b\\u5c0f\\u5e84 \",\n",
       "                \"\\u9ebb\\u8fa3\\u5c0f\\u9f99\\u867e\",\n",
       "                \"\\u4e94\\u8272\\u7cef\\u7c73\\u996d(\\u4e03\\u8272)\",\n",
       "                \"\\u86cb\\u631e\",\n",
       "                \"\\u829d\\u58eb\\u70e9\\u6ce2\\u58eb\\u987f\\u9f99\\u867e\",\n",
       "                \"\\u8fa3\\u7092\\u9c7f\\u9c7c\",\n",
       "                \"\\u9999\\u9165\\u4e24\\u5403\\u5927\\u867e\"\n",
       "            ]\n",
       "        }\n",
       "    ],\n",
       "    \"yAxis\": [\n",
       "        {\n",
       "            \"name\": \"\\u83dc\\u54c1\\u4ef7\\u683c/\\u5143\",\n",
       "            \"show\": true,\n",
       "            \"scale\": false,\n",
       "            \"nameLocation\": \"end\",\n",
       "            \"nameGap\": 15,\n",
       "            \"gridIndex\": 0,\n",
       "            \"inverse\": false,\n",
       "            \"offset\": 0,\n",
       "            \"splitNumber\": 5,\n",
       "            \"minInterval\": 0,\n",
       "            \"splitLine\": {\n",
       "                \"show\": true,\n",
       "                \"lineStyle\": {\n",
       "                    \"show\": true,\n",
       "                    \"width\": 1,\n",
       "                    \"opacity\": 1,\n",
       "                    \"curveness\": 0,\n",
       "                    \"type\": \"solid\"\n",
       "                }\n",
       "            }\n",
       "        },\n",
       "        {\n",
       "            \"name\": \"\\u9910\\u54c1\\u70ed\\u5ea6\",\n",
       "            \"show\": true,\n",
       "            \"scale\": false,\n",
       "            \"nameLocation\": \"end\",\n",
       "            \"nameGap\": 15,\n",
       "            \"gridIndex\": 0,\n",
       "            \"inverse\": false,\n",
       "            \"position\": \"right\",\n",
       "            \"offset\": 0,\n",
       "            \"splitNumber\": 5,\n",
       "            \"minInterval\": 0,\n",
       "            \"splitLine\": {\n",
       "                \"show\": true,\n",
       "                \"lineStyle\": {\n",
       "                    \"show\": true,\n",
       "                    \"width\": 1,\n",
       "                    \"opacity\": 1,\n",
       "                    \"curveness\": 0,\n",
       "                    \"type\": \"solid\"\n",
       "                }\n",
       "            }\n",
       "        }\n",
       "    ],\n",
       "    \"title\": [\n",
       "        {\n",
       "            \"show\": true,\n",
       "            \"text\": \"\\u9910\\u9986\\u70ed\\u5ea6\\u524d\\u5341\\u7684\\u9910\\u54c1\\u548c\\u5176\\u552e\\u4ef7\",\n",
       "            \"target\": \"blank\",\n",
       "            \"subtarget\": \"blank\",\n",
       "            \"padding\": 5,\n",
       "            \"itemGap\": 10,\n",
       "            \"textAlign\": \"auto\",\n",
       "            \"textVerticalAlign\": \"auto\",\n",
       "            \"triggerEvent\": false\n",
       "        }\n",
       "    ]\n",
       "};\n",
       "                chart_22e798933a3b432d9dd8d81cef54603a.setOption(option_22e798933a3b432d9dd8d81cef54603a);\n",
       "        });\n",
       "    </script>\n"
      ],
      "text/plain": [
       "<pyecharts.render.display.HTML at 0x2483bb17190>"
      ]
     },
     "execution_count": 12,
     "metadata": {},
     "output_type": "execute_result"
    }
   ],
   "source": [
    "import numpy as np\n",
    "from pyecharts.charts import Bar, Line, Grid\n",
    "from pyecharts import options as opts  #配置项模块\n",
    "\n",
    "#菜品热度:\n",
    "#公式: (菜品份数-所有商品售出最小份数)/(max商品份数-min商品)\n",
    "\n",
    "#所以我们需要将订单商品 进行分组提取，分别计算菜品究竟售出了多少份\n",
    "count_max=grouped_counts['counts'].max()\n",
    "count_min=grouped_counts['counts'].min()\n",
    "grouped_counts['热度']=(grouped_counts['counts'] - count_min) / (count_max-count_min)\n",
    "grouped_counts.head()\n",
    "\n",
    "# 可视化前十个菜品热销度:\n",
    "# 根据热度排序，选取前十个菜品\n",
    "top_10_dishes = grouped_counts.sort_values(by='热度', ascending=False).head(10)\n",
    "\n",
    "# 创建柱状图\n",
    "bar = Bar(init_opts=opts.InitOpts(width=\"1000px\", height=\"600px\",bg_color=\"#f5f5f5\"))  #背景为白色\n",
    "bar.add_xaxis(top_10_dishes['dishes_name'].tolist())  #传入x轴数据 \n",
    "bar.add_yaxis(\"菜品价格\", top_10_dishes['price'].round(2).tolist())  #传入y轴数据\n",
    "bar.extend_axis(yaxis=opts.AxisOpts(name=\"餐品热度\", position=\"right\"))\n",
    "bar.set_series_opts(label_opts=opts.LabelOpts(is_show=False))\n",
    "bar.set_global_opts(title_opts=opts.TitleOpts(title=\"餐馆热度前十的餐品和其售价\"),\n",
    "                    yaxis_opts=opts.AxisOpts(name=\"菜品价格/元\"),\n",
    "                    xaxis_opts=opts.AxisOpts(axislabel_opts=opts.LabelOpts(rotate=45, interval=0)))\n",
    "\n",
    "# 创建折线图\n",
    "line = Line()\n",
    "line.add_xaxis(top_10_dishes['dishes_name'].tolist())\n",
    "line.add_yaxis(\"餐品热度\", top_10_dishes['热度'].round(2).tolist(), yaxis_index=1)\n",
    "line.set_series_opts(label_opts=opts.LabelOpts(is_show=False))\n",
    "\n",
    "# 使用overlap将柱状图和折线图结合在一起\n",
    "overlap = bar.overlap(line)\n",
    "\n",
    "# 渲染图表\n",
    "overlap.render_notebook()\n"
   ]
  },
  {
   "cell_type": "code",
   "execution_count": 13,
   "metadata": {},
   "outputs": [
    {
     "data": {
      "text/html": [
       "<div>\n",
       "<style scoped>\n",
       "    .dataframe tbody tr th:only-of-type {\n",
       "        vertical-align: middle;\n",
       "    }\n",
       "\n",
       "    .dataframe tbody tr th {\n",
       "        vertical-align: top;\n",
       "    }\n",
       "\n",
       "    .dataframe thead th {\n",
       "        text-align: right;\n",
       "    }\n",
       "</style>\n",
       "<table border=\"1\" class=\"dataframe\">\n",
       "  <thead>\n",
       "    <tr style=\"text-align: right;\">\n",
       "      <th></th>\n",
       "      <th>dishes_name</th>\n",
       "      <th>price</th>\n",
       "      <th>cost</th>\n",
       "      <th>counts</th>\n",
       "      <th>热度</th>\n",
       "    </tr>\n",
       "  </thead>\n",
       "  <tbody>\n",
       "    <tr>\n",
       "      <th>7</th>\n",
       "      <td>白饭/小碗</td>\n",
       "      <td>1</td>\n",
       "      <td>0.5</td>\n",
       "      <td>560</td>\n",
       "      <td>1.000000</td>\n",
       "    </tr>\n",
       "    <tr>\n",
       "      <th>6</th>\n",
       "      <td>白饭/大碗</td>\n",
       "      <td>10</td>\n",
       "      <td>5.0</td>\n",
       "      <td>429</td>\n",
       "      <td>0.765653</td>\n",
       "    </tr>\n",
       "    <tr>\n",
       "      <th>67</th>\n",
       "      <td>凉拌菠菜</td>\n",
       "      <td>27</td>\n",
       "      <td>9.0</td>\n",
       "      <td>272</td>\n",
       "      <td>0.484794</td>\n",
       "    </tr>\n",
       "    <tr>\n",
       "      <th>41</th>\n",
       "      <td>谷稻小庄</td>\n",
       "      <td>38</td>\n",
       "      <td>20.0</td>\n",
       "      <td>243</td>\n",
       "      <td>0.432916</td>\n",
       "    </tr>\n",
       "    <tr>\n",
       "      <th>73</th>\n",
       "      <td>麻辣小龙虾</td>\n",
       "      <td>99</td>\n",
       "      <td>78.0</td>\n",
       "      <td>219</td>\n",
       "      <td>0.389982</td>\n",
       "    </tr>\n",
       "    <tr>\n",
       "      <th>116</th>\n",
       "      <td>五色糯米饭(七色)</td>\n",
       "      <td>35</td>\n",
       "      <td>17.0</td>\n",
       "      <td>195</td>\n",
       "      <td>0.347048</td>\n",
       "    </tr>\n",
       "    <tr>\n",
       "      <th>28</th>\n",
       "      <td>蛋挞</td>\n",
       "      <td>8</td>\n",
       "      <td>4.0</td>\n",
       "      <td>192</td>\n",
       "      <td>0.341682</td>\n",
       "    </tr>\n",
       "    <tr>\n",
       "      <th>137</th>\n",
       "      <td>芝士烩波士顿龙虾</td>\n",
       "      <td>175</td>\n",
       "      <td>130.0</td>\n",
       "      <td>190</td>\n",
       "      <td>0.338104</td>\n",
       "    </tr>\n",
       "    <tr>\n",
       "      <th>64</th>\n",
       "      <td>辣炒鱿鱼</td>\n",
       "      <td>58</td>\n",
       "      <td>35.0</td>\n",
       "      <td>189</td>\n",
       "      <td>0.336315</td>\n",
       "    </tr>\n",
       "    <tr>\n",
       "      <th>125</th>\n",
       "      <td>香酥两吃大虾</td>\n",
       "      <td>89</td>\n",
       "      <td>55.0</td>\n",
       "      <td>179</td>\n",
       "      <td>0.318426</td>\n",
       "    </tr>\n",
       "  </tbody>\n",
       "</table>\n",
       "</div>"
      ],
      "text/plain": [
       "    dishes_name  price   cost  counts        热度\n",
       "7         白饭/小碗      1    0.5     560  1.000000\n",
       "6         白饭/大碗     10    5.0     429  0.765653\n",
       "67         凉拌菠菜     27    9.0     272  0.484794\n",
       "41        谷稻小庄      38   20.0     243  0.432916\n",
       "73        麻辣小龙虾     99   78.0     219  0.389982\n",
       "116   五色糯米饭(七色)     35   17.0     195  0.347048\n",
       "28           蛋挞      8    4.0     192  0.341682\n",
       "137    芝士烩波士顿龙虾    175  130.0     190  0.338104\n",
       "64         辣炒鱿鱼     58   35.0     189  0.336315\n",
       "125      香酥两吃大虾     89   55.0     179  0.318426"
      ]
     },
     "execution_count": 13,
     "metadata": {},
     "output_type": "execute_result"
    }
   ],
   "source": [
    "top_10_dishes"
   ]
  },
  {
   "cell_type": "code",
   "execution_count": 14,
   "metadata": {},
   "outputs": [
    {
     "data": {
      "text/html": [
       "<div>\n",
       "<style scoped>\n",
       "    .dataframe tbody tr th:only-of-type {\n",
       "        vertical-align: middle;\n",
       "    }\n",
       "\n",
       "    .dataframe tbody tr th {\n",
       "        vertical-align: top;\n",
       "    }\n",
       "\n",
       "    .dataframe thead th {\n",
       "        text-align: right;\n",
       "    }\n",
       "</style>\n",
       "<table border=\"1\" class=\"dataframe\">\n",
       "  <thead>\n",
       "    <tr style=\"text-align: right;\">\n",
       "      <th></th>\n",
       "      <th>dishes_name</th>\n",
       "      <th>price</th>\n",
       "      <th>cost</th>\n",
       "      <th>counts</th>\n",
       "      <th>热度</th>\n",
       "      <th>毛利率</th>\n",
       "    </tr>\n",
       "  </thead>\n",
       "  <tbody>\n",
       "    <tr>\n",
       "      <th>3</th>\n",
       "      <td>50度古井贡酒</td>\n",
       "      <td>90</td>\n",
       "      <td>20.0</td>\n",
       "      <td>21</td>\n",
       "      <td>0.035778</td>\n",
       "      <td>0.777778</td>\n",
       "    </tr>\n",
       "    <tr>\n",
       "      <th>96</th>\n",
       "      <td>清炒菊花菜</td>\n",
       "      <td>30</td>\n",
       "      <td>9.0</td>\n",
       "      <td>58</td>\n",
       "      <td>0.101968</td>\n",
       "      <td>0.700000</td>\n",
       "    </tr>\n",
       "    <tr>\n",
       "      <th>38</th>\n",
       "      <td>番茄甘蓝</td>\n",
       "      <td>33</td>\n",
       "      <td>10.0</td>\n",
       "      <td>80</td>\n",
       "      <td>0.141324</td>\n",
       "      <td>0.696970</td>\n",
       "    </tr>\n",
       "    <tr>\n",
       "      <th>118</th>\n",
       "      <td>西瓜胡萝卜沙拉</td>\n",
       "      <td>26</td>\n",
       "      <td>8.0</td>\n",
       "      <td>136</td>\n",
       "      <td>0.241503</td>\n",
       "      <td>0.692308</td>\n",
       "    </tr>\n",
       "    <tr>\n",
       "      <th>70</th>\n",
       "      <td>凉拌蒜蓉西兰花</td>\n",
       "      <td>29</td>\n",
       "      <td>9.0</td>\n",
       "      <td>118</td>\n",
       "      <td>0.209302</td>\n",
       "      <td>0.689655</td>\n",
       "    </tr>\n",
       "    <tr>\n",
       "      <th>39</th>\n",
       "      <td>番茄有机花菜</td>\n",
       "      <td>32</td>\n",
       "      <td>10.0</td>\n",
       "      <td>94</td>\n",
       "      <td>0.166369</td>\n",
       "      <td>0.687500</td>\n",
       "    </tr>\n",
       "    <tr>\n",
       "      <th>67</th>\n",
       "      <td>凉拌菠菜</td>\n",
       "      <td>27</td>\n",
       "      <td>9.0</td>\n",
       "      <td>272</td>\n",
       "      <td>0.484794</td>\n",
       "      <td>0.666667</td>\n",
       "    </tr>\n",
       "    <tr>\n",
       "      <th>111</th>\n",
       "      <td>特醇嘉士伯啤酒罐装</td>\n",
       "      <td>6</td>\n",
       "      <td>2.0</td>\n",
       "      <td>19</td>\n",
       "      <td>0.032200</td>\n",
       "      <td>0.666667</td>\n",
       "    </tr>\n",
       "    <tr>\n",
       "      <th>24</th>\n",
       "      <td>葱油凉拌藕片</td>\n",
       "      <td>30</td>\n",
       "      <td>10.0</td>\n",
       "      <td>67</td>\n",
       "      <td>0.118068</td>\n",
       "      <td>0.666667</td>\n",
       "    </tr>\n",
       "    <tr>\n",
       "      <th>90</th>\n",
       "      <td>葡萄奶酥(超酥香的饼干)</td>\n",
       "      <td>9</td>\n",
       "      <td>3.0</td>\n",
       "      <td>44</td>\n",
       "      <td>0.076923</td>\n",
       "      <td>0.666667</td>\n",
       "    </tr>\n",
       "  </tbody>\n",
       "</table>\n",
       "</div>"
      ],
      "text/plain": [
       "      dishes_name  price  cost  counts        热度       毛利率\n",
       "3         50度古井贡酒     90  20.0      21  0.035778  0.777778\n",
       "96          清炒菊花菜     30   9.0      58  0.101968  0.700000\n",
       "38           番茄甘蓝     33  10.0      80  0.141324  0.696970\n",
       "118       西瓜胡萝卜沙拉     26   8.0     136  0.241503  0.692308\n",
       "70        凉拌蒜蓉西兰花     29   9.0     118  0.209302  0.689655\n",
       "39         番茄有机花菜     32  10.0      94  0.166369  0.687500\n",
       "67           凉拌菠菜     27   9.0     272  0.484794  0.666667\n",
       "111     特醇嘉士伯啤酒罐装      6   2.0      19  0.032200  0.666667\n",
       "24         葱油凉拌藕片     30  10.0      67  0.118068  0.666667\n",
       "90   葡萄奶酥(超酥香的饼干)      9   3.0      44  0.076923  0.666667"
      ]
     },
     "execution_count": 14,
     "metadata": {},
     "output_type": "execute_result"
    }
   ],
   "source": [
    "#计算菜品的毛利率:\n",
    "\n",
    "#公式: (菜品单价-成本)/单价\n",
    "#因此我们需要在分组的基础上计算就行\n",
    "grouped_counts['毛利率']=(grouped_counts['price'] - grouped_counts['cost']) / (grouped_counts['price'])\n",
    "#，毛利排前十的商品:\n",
    "top_10_dishes = grouped_counts.sort_values(by='毛利率', ascending=False)\n",
    "top_10_dishes.head(10)"
   ]
  },
  {
   "cell_type": "markdown",
   "metadata": {},
   "source": [
    "<a id=\"3.3.2\"></a>\n",
    "\n",
    "### 3.3.2 构建餐饮客户价值分析关键特征\n",
    "\n",
    "RFM 模型介绍:是一种经典的客户价值分析方法，通过评估客户的消费行为，帮助企业识别和细分客户群，以制定相应的营销策略。RFM 分析基于三个关键特征：Recency（最近一次消费时间）、Frequency（消费频率）、Monetary（消费金额）.\n",
    "\n",
    "Recency（最近一次消费时间） 定义： Recency 指的是客户最近一次购买距离当前时间的间隔天数。 重要性： 最近一次消费时间越短的客户，通常表示该客户对公司的服务或产品仍然感兴趣，是活跃客户的可能性较高。 通过分析 Recency，可以识别近期活跃客户和可能流失的客户，进而采取相应的营销策略。 计算方法： Recency = 当前日期 - 最后一次消费日期\n",
    "\n",
    "Frequency（消费频率） 定义： Frequency 指的是在特定时间段内客户的消费次数。 重要性： 消费频率高的客户通常表明他们对产品或服务的忠诚度较高，是公司的重要客户。 通过分析 Frequency，可以识别高频客户，并为其提供会员奖励或特别优惠，进一步提高客户忠诚度。 计算方法： 在特定时间段内统计每个客户的消费次数。例如： Frequency = 某段时间内的购买次数（如一年内的购买次数）\n",
    "\n",
    "Monetary（消费金额） 定义： Monetary 指的是在特定时间段内客户的消费总金额。 重要性： 高消费金额的客户通常是公司的高价值客户，对公司的收入贡献较大。 通过分析 Monetary，可以识别消费能力强的客户，并提供定制化的高端服务或产品，提升客户满意度和再次消费的可能性。 计算方法： 在特定时间段内统计每个客户的总消费金额。例如： Monetary = 某段时间内的累计消费金额（如一年内的消费总额） RFM 特征的综合应用 通过对 RFM 特征的评分，可以对客户进行细分，了解不同客户群的行为特征，从而制定更加精准的营销策略。例如： 最佳客户（Recency 高、Frequency 高、Monetary 高）：近期频繁购买且消费金额较高的客户。 潜在流失客户\n",
    "（Recency 低、Frequency 低、Monetary 高）：很久没有购买但消费金额较高的客户。 新客户（Recency 高、Frequency 低、Monetary 中）：最近开始购买但消费次数较少的客户。 低价值客户（Recency 低、Frequency 低、Monetary 低）：很久没有购买且消费金额较低的客户。\n"
   ]
  },
  {
   "cell_type": "markdown",
   "metadata": {},
   "source": [
    "从订单数据的角度进行处理，进行客户的信息提取(近一个月有花销的客户)，共469位\n",
    "\n"
   ]
  },
  {
   "cell_type": "code",
   "execution_count": 15,
   "metadata": {},
   "outputs": [
    {
     "name": "stdout",
     "output_type": "stream",
     "text": [
      "F特征的最大值: 10\n",
      "F特征的最小值: 1\n",
      "M 特征的最大值： 6037\n",
      "M 特征的最小值： 80\n",
      "R 特征的最大值： 30 days 00:00:00\n",
      "R 特征的最小值： 0 days 00:00:00\n",
      "   USER_ID   F     M ACCOUNT         FIRST_VISIT          LAST_VISITS      R\n",
      "0     1086  10  6037     张小雨  2015/10/1 17:04:28  2016-08-31 00:00:00 0 days\n",
      "1     1147   8  4564     卓永梅  2015/2/17 13:17:01  2016-08-28 00:00:00 3 days\n",
      "2     1076   8  4661      赵倩  2015/4/31 18:23:24  2016-08-30 00:00:00 1 days\n",
      "3     1122   8  3667      朱钰   2014/6/5 20:13:33  2016-08-27 00:00:00 4 days\n",
      "4     1103   7  5260      关庭  2015/2/13 13:22:47  2016-08-29 00:00:00 2 days\n",
      "469\n",
      "   R   F     M\n",
      "0  0  10  6037\n",
      "1  3   8  4564\n",
      "2  1   8  4661\n",
      "3  4   8  3667\n",
      "4  2   7  5260\n"
     ]
    }
   ],
   "source": [
    "#构建F特征: 每个人的用餐次数:\n",
    "#则统计(订单数据)info_august_new 查看id的订单次数:\n",
    "user_value1=pd.DataFrame(info_august_new['emp_id'].value_counts().reset_index())\n",
    "user_value1.columns=['USER_ID','F']  #修改列名为 uesr_id 和F\n",
    "# print('F特征的分布:',user_value1['F'].unique)\n",
    "print('F特征的最大值:',max(user_value1['F']))\n",
    "print('F特征的最小值:',min(user_value1['F']))\n",
    "\n",
    "\n",
    "\n",
    "#构建M特征(消费金额):\n",
    "user_value2 = info_august_new[['emp_id', 'expenditure']].groupby(by='emp_id').sum()\n",
    "user_value2 = pd.DataFrame(user_value2).reset_index()\n",
    "user_value2.columns = [\"USER_ID\", \"M\"]\n",
    "#将特征进行合并: \n",
    "user_value = pd.merge(user_value1, user_value2, on='USER_ID')\n",
    "print('M 特征的最大值：', max(user_value['M']))\n",
    "print('M 特征的最小值：', min(user_value['M']))\n",
    "\n",
    "\n",
    "\n",
    "#构建R特征(最近一次购买时间):\n",
    "#将有表示最后一次时间的表 和上面的特征表进行合并:\n",
    "import datetime as dt\n",
    "user_value = pd.merge(user_value, user, on='USER_ID')\n",
    "\n",
    "# #然后将字符串的时间 用datatime进行转换:(日期  和具体时间)\n",
    "for i,k in enumerate(user_value['LAST_VISITS']):\n",
    "    #i 是具体日期  k是时间\n",
    "    y=k.split()\n",
    "    y=pd.to_datetime(y[0])\n",
    "    user_value.loc[i,'LAST_VISITS']=y\n",
    "last_time=pd.to_datetime(user_value['LAST_VISITS'])\n",
    "#设定观测窗口结束时间:\n",
    "deadline=pd.to_datetime('2016-8-31')\n",
    "#R 表示上一次 距离截止日期有多少天没来了\n",
    "user_value['R']=deadline-last_time\n",
    "print('R 特征的最大值：', max(user_value['R']))\n",
    "print('R 特征的最小值：', min(user_value['R']))\n",
    "\n",
    "print(user_value.head())\n",
    "\n",
    "user_value1=user_value.iloc[:,[0,3,6,1,2]]\n",
    "\n",
    "user_id=user_value['USER_ID']\n",
    "ACCOUNT=user_value['ACCOUNT']\n",
    "user_value1=user_value1.iloc[:,[2,3,4]]\n",
    "user_value1.iloc[:,0]=[i.days for i in user_value1.iloc[:,0]] #提取datetime的天数,数值化\n",
    "\n",
    "#user_value1是只有RFM三特征的df\n",
    "print(len(user_value1))\n",
    "print(user_value1.head())"
   ]
  },
  {
   "cell_type": "markdown",
   "metadata": {},
   "source": [
    "<a id=\"c\"></a>\n",
    "\n",
    "#### 数据转化(标准化)"
   ]
  },
  {
   "cell_type": "markdown",
   "metadata": {},
   "source": [
    "可以根据上面特征，存在数量级的差异，则为了消除数量级上的差异，数据需要进行**标准化**:\n",
    "\n",
    "(只提取user_id 、 R 、M 、F:)"
   ]
  },
  {
   "cell_type": "code",
   "execution_count": 16,
   "metadata": {},
   "outputs": [
    {
     "name": "stdout",
     "output_type": "stream",
     "text": [
      "   R   F     M\n",
      "0  0  10  6037\n",
      "1  3   8  4564\n",
      "2  1   8  4661\n",
      "3  4   8  3667\n",
      "4  2   7  5260\n",
      "[[-1.66012717  5.05680698  5.74031189]\n",
      " [-1.30231483  3.7942877   4.06905232]\n",
      " [-1.54085639  3.7942877   4.17910811]\n",
      " ...\n",
      " [ 0.84455918 -0.62452979 -0.47386912]\n",
      " [ 0.84455918 -0.62452979 -0.07449141]\n",
      " [-1.30231483 -0.62452979 -0.25489214]]\n",
      "469\n"
     ]
    }
   ],
   "source": [
    "print(user_value1.head())\n",
    "\n",
    "#标准差标准化\n",
    "#sklearn.preprocessing 模块中的 StandardScaler 类来标准化 user_value 数据框中的数据。\n",
    "# 标准化是一种常见的数据预处理步骤，可以将数据的均值调整为 0，标准差调整为 1。\n",
    "standard=StandardScaler().fit_transform(user_value1)\n",
    "print(standard)\n",
    "print(len(standard))"
   ]
  },
  {
   "cell_type": "markdown",
   "metadata": {},
   "source": [
    "<a id=\"模型构建\"></a>\n",
    "\n",
    "# 4.对菜品套餐、客户价值分析进行模型构建:"
   ]
  },
  {
   "cell_type": "markdown",
   "metadata": {},
   "source": [
    "<a id=\"4.1\"></a>\n",
    "\n",
    "## 4.1 对菜品套餐进行选取进行分析\n",
    "<a id=\"4.1.1\"></a>\n"
   ]
  },
  {
   "cell_type": "markdown",
   "metadata": {},
   "source": [
    "<a id=\"4.1.1\"></a>\n",
    "\n",
    "### 4.1.1 Apriori模型实现菜品的关联分析"
   ]
  },
  {
   "cell_type": "markdown",
   "metadata": {},
   "source": [
    "结合菜品热销度、毛利率和店家主推菜品等综合因素，为菜品制定套餐，提高某餐饮企业的销售量。\n",
    "\n",
    "构建Apriori模型进行菜品关联分析之前，需要先构建购物篮数据和购物篮二元矩阵。"
   ]
  },
  {
   "cell_type": "markdown",
   "metadata": {},
   "source": [
    "在订单详情表中的数据样本是单个菜品的订单信息，但是实现菜品间的关联分析需要找到客户在某个订单中同时有哪些菜品，即所谓的购物篮数据。对数据预处理后的订单详情表的菜品数据转换为购物篮数据"
   ]
  },
  {
   "cell_type": "markdown",
   "metadata": {},
   "source": [
    "导入数据，且发现'蒙古烤羊腿'导入的时候出现特殊无用字符，需要进行清洗"
   ]
  },
  {
   "cell_type": "code",
   "execution_count": 17,
   "metadata": {},
   "outputs": [],
   "source": [
    "#根据订单详情order_detail_df: 根据订单id进行分组: \n",
    "\n",
    "# 清理dishes_name列中的特殊字符\n",
    "order_detail_df['dishes_name'] = order_detail_df['dishes_name'].str.strip()"
   ]
  },
  {
   "cell_type": "code",
   "execution_count": 18,
   "metadata": {},
   "outputs": [
    {
     "data": {
      "text/html": [
       "<div>\n",
       "<style scoped>\n",
       "    .dataframe tbody tr th:only-of-type {\n",
       "        vertical-align: middle;\n",
       "    }\n",
       "\n",
       "    .dataframe tbody tr th {\n",
       "        vertical-align: top;\n",
       "    }\n",
       "\n",
       "    .dataframe thead th {\n",
       "        text-align: right;\n",
       "    }\n",
       "</style>\n",
       "<table border=\"1\" class=\"dataframe\">\n",
       "  <thead>\n",
       "    <tr style=\"text-align: right;\">\n",
       "      <th>dishes_name</th>\n",
       "      <th>38度剑南春</th>\n",
       "      <th>42度海之蓝</th>\n",
       "      <th>50度古井贡酒</th>\n",
       "      <th>52度泸州老窖</th>\n",
       "      <th>53度茅台</th>\n",
       "      <th>一品香酥藕</th>\n",
       "      <th>三丝鳝鱼</th>\n",
       "      <th>三色凉拌手撕兔</th>\n",
       "      <th>不加一滴油的酸奶蛋糕</th>\n",
       "      <th>五彩藕苗</th>\n",
       "      <th>...</th>\n",
       "      <th>香辣腐乳炒虾</th>\n",
       "      <th>香酥两吃大虾</th>\n",
       "      <th>鱼香肉丝拌面</th>\n",
       "      <th>鲜美鳝鱼</th>\n",
       "      <th>鸡蛋、肉末肠粉</th>\n",
       "      <th>麻辣小龙虾</th>\n",
       "      <th>黄尾袋鼠西拉子红葡萄酒</th>\n",
       "      <th>黄油曲奇饼干</th>\n",
       "      <th>黄花菜炒木耳</th>\n",
       "      <th>黑米恋上葡萄</th>\n",
       "    </tr>\n",
       "    <tr>\n",
       "      <th>order_id</th>\n",
       "      <th></th>\n",
       "      <th></th>\n",
       "      <th></th>\n",
       "      <th></th>\n",
       "      <th></th>\n",
       "      <th></th>\n",
       "      <th></th>\n",
       "      <th></th>\n",
       "      <th></th>\n",
       "      <th></th>\n",
       "      <th></th>\n",
       "      <th></th>\n",
       "      <th></th>\n",
       "      <th></th>\n",
       "      <th></th>\n",
       "      <th></th>\n",
       "      <th></th>\n",
       "      <th></th>\n",
       "      <th></th>\n",
       "      <th></th>\n",
       "      <th></th>\n",
       "    </tr>\n",
       "  </thead>\n",
       "  <tbody>\n",
       "    <tr>\n",
       "      <th>137</th>\n",
       "      <td>0</td>\n",
       "      <td>0</td>\n",
       "      <td>0</td>\n",
       "      <td>0</td>\n",
       "      <td>0</td>\n",
       "      <td>0</td>\n",
       "      <td>0</td>\n",
       "      <td>0</td>\n",
       "      <td>0</td>\n",
       "      <td>0</td>\n",
       "      <td>...</td>\n",
       "      <td>0</td>\n",
       "      <td>0</td>\n",
       "      <td>0</td>\n",
       "      <td>0</td>\n",
       "      <td>0</td>\n",
       "      <td>1</td>\n",
       "      <td>0</td>\n",
       "      <td>0</td>\n",
       "      <td>0</td>\n",
       "      <td>0</td>\n",
       "    </tr>\n",
       "    <tr>\n",
       "      <th>162</th>\n",
       "      <td>0</td>\n",
       "      <td>0</td>\n",
       "      <td>0</td>\n",
       "      <td>0</td>\n",
       "      <td>1</td>\n",
       "      <td>0</td>\n",
       "      <td>0</td>\n",
       "      <td>0</td>\n",
       "      <td>0</td>\n",
       "      <td>0</td>\n",
       "      <td>...</td>\n",
       "      <td>0</td>\n",
       "      <td>0</td>\n",
       "      <td>0</td>\n",
       "      <td>0</td>\n",
       "      <td>0</td>\n",
       "      <td>1</td>\n",
       "      <td>0</td>\n",
       "      <td>1</td>\n",
       "      <td>0</td>\n",
       "      <td>0</td>\n",
       "    </tr>\n",
       "    <tr>\n",
       "      <th>163</th>\n",
       "      <td>0</td>\n",
       "      <td>0</td>\n",
       "      <td>0</td>\n",
       "      <td>0</td>\n",
       "      <td>0</td>\n",
       "      <td>0</td>\n",
       "      <td>0</td>\n",
       "      <td>0</td>\n",
       "      <td>0</td>\n",
       "      <td>0</td>\n",
       "      <td>...</td>\n",
       "      <td>0</td>\n",
       "      <td>0</td>\n",
       "      <td>0</td>\n",
       "      <td>0</td>\n",
       "      <td>0</td>\n",
       "      <td>1</td>\n",
       "      <td>0</td>\n",
       "      <td>0</td>\n",
       "      <td>0</td>\n",
       "      <td>0</td>\n",
       "    </tr>\n",
       "    <tr>\n",
       "      <th>165</th>\n",
       "      <td>1</td>\n",
       "      <td>0</td>\n",
       "      <td>0</td>\n",
       "      <td>0</td>\n",
       "      <td>0</td>\n",
       "      <td>1</td>\n",
       "      <td>0</td>\n",
       "      <td>0</td>\n",
       "      <td>0</td>\n",
       "      <td>0</td>\n",
       "      <td>...</td>\n",
       "      <td>0</td>\n",
       "      <td>0</td>\n",
       "      <td>0</td>\n",
       "      <td>0</td>\n",
       "      <td>0</td>\n",
       "      <td>0</td>\n",
       "      <td>0</td>\n",
       "      <td>0</td>\n",
       "      <td>1</td>\n",
       "      <td>0</td>\n",
       "    </tr>\n",
       "    <tr>\n",
       "      <th>166</th>\n",
       "      <td>0</td>\n",
       "      <td>0</td>\n",
       "      <td>0</td>\n",
       "      <td>0</td>\n",
       "      <td>0</td>\n",
       "      <td>0</td>\n",
       "      <td>0</td>\n",
       "      <td>0</td>\n",
       "      <td>0</td>\n",
       "      <td>0</td>\n",
       "      <td>...</td>\n",
       "      <td>0</td>\n",
       "      <td>0</td>\n",
       "      <td>0</td>\n",
       "      <td>0</td>\n",
       "      <td>0</td>\n",
       "      <td>0</td>\n",
       "      <td>0</td>\n",
       "      <td>0</td>\n",
       "      <td>0</td>\n",
       "      <td>0</td>\n",
       "    </tr>\n",
       "  </tbody>\n",
       "</table>\n",
       "<p>5 rows × 145 columns</p>\n",
       "</div>"
      ],
      "text/plain": [
       "dishes_name  38度剑南春  42度海之蓝  50度古井贡酒  52度泸州老窖  53度茅台  一品香酥藕  三丝鳝鱼  三色凉拌手撕兔   \n",
       "order_id                                                                     \n",
       "137               0       0        0        0      0      0     0        0  \\\n",
       "162               0       0        0        0      1      0     0        0   \n",
       "163               0       0        0        0      0      0     0        0   \n",
       "165               1       0        0        0      0      1     0        0   \n",
       "166               0       0        0        0      0      0     0        0   \n",
       "\n",
       "dishes_name  不加一滴油的酸奶蛋糕  五彩藕苗  ...  香辣腐乳炒虾  香酥两吃大虾  鱼香肉丝拌面  鲜美鳝鱼  鸡蛋、肉末肠粉   \n",
       "order_id                       ...                                          \n",
       "137                   0     0  ...       0       0       0     0        0  \\\n",
       "162                   0     0  ...       0       0       0     0        0   \n",
       "163                   0     0  ...       0       0       0     0        0   \n",
       "165                   0     0  ...       0       0       0     0        0   \n",
       "166                   0     0  ...       0       0       0     0        0   \n",
       "\n",
       "dishes_name  麻辣小龙虾  黄尾袋鼠西拉子红葡萄酒  黄油曲奇饼干  黄花菜炒木耳  黑米恋上葡萄  \n",
       "order_id                                                 \n",
       "137              1            0       0       0       0  \n",
       "162              1            0       1       0       0  \n",
       "163              1            0       0       0       0  \n",
       "165              0            0       0       1       0  \n",
       "166              0            0       0       0       0  \n",
       "\n",
       "[5 rows x 145 columns]"
      ]
     },
     "execution_count": 18,
     "metadata": {},
     "output_type": "execute_result"
    }
   ],
   "source": [
    "\n",
    "# # #groupby 进行检验是否订单都是2个:\n",
    "# temp1=dishes_order_infosales.groupby(by='order_id')['dishes_name'].apply(list)\n",
    "# temp1[137]\n",
    "\n",
    "#转换为透视表(购物篮格式)\n",
    "temp=pd.pivot_table(order_detail_df[['order_id','dishes_name']],\n",
    "                    index='order_id',\n",
    "                    columns='dishes_name', #根据columns不同的取值转为列名展示\n",
    "                    aggfunc=np.count_nonzero,\n",
    "                    fill_value=0) #表示当某个用户对于某种行为没有记录时，对应的单元格填充的值为0，以保持数据完整性。\n",
    "temp.reset_index(inplace=True)\n",
    "temp\n",
    "\n",
    "# temp.columns=grouped_counts['dishes_name'].tolist()\n",
    "\n",
    "# #但是还是需要将为2的改为1\n",
    "temp_basket = temp.set_index('order_id')\n",
    "temp_basket[temp_basket > 0] = 1\n",
    "\n",
    "\n",
    "# #成功转换为购物篮格式:\n",
    "#以下就是二元矩阵\n",
    "# temp_basket.to_excel('购物篮数据.xlsx')\n",
    "temp_basket.head()"
   ]
  },
  {
   "cell_type": "code",
   "execution_count": 19,
   "metadata": {},
   "outputs": [
    {
     "name": "stdout",
     "output_type": "stream",
     "text": [
      "频繁项集输出:\n",
      "      support     itemsets\n",
      "20   0.285563       (凉拌菠菜)\n",
      "111  0.253715       (谷稻小庄)\n",
      "137  0.229299      (麻辣小龙虾)\n",
      "118  0.200637       (辣炒鱿鱼)\n",
      "96   0.199575   (芝士烩波士顿龙虾)\n",
      "11   0.198514  (五色糯米饭(七色))\n",
      "82   0.197452      (白饭/小碗)\n",
      "133  0.188960     (香酥两吃大虾)\n",
      "63   0.183652        (焖猪手)\n",
      "53   0.171975        (水煮鱼)\n",
      "关联规则:\n",
      "  antecedents consequents  antecedent support  consequent support   support   \n",
      "0    (38度剑南春)  (芝士烩波士顿龙虾)            0.025478            0.199575  0.011677  \\\n",
      "1  (芝士烩波士顿龙虾)    (38度剑南春)            0.199575            0.025478  0.011677   \n",
      "2    (香酥两吃大虾)    (42度海之蓝)            0.188960            0.018047  0.010616   \n",
      "3    (42度海之蓝)    (香酥两吃大虾)            0.018047            0.188960  0.010616   \n",
      "4  (芝士烩波士顿龙虾)   (50度古井贡酒)            0.199575            0.022293  0.010616   \n",
      "\n",
      "   confidence      lift  representativity  leverage  conviction   \n",
      "0    0.458333  2.296543               1.0  0.006593    1.477707  \\\n",
      "1    0.058511  2.296543               1.0  0.006593    1.035086   \n",
      "2    0.056180  3.113020               1.0  0.007206    1.040403   \n",
      "3    0.588235  3.113020               1.0  0.007206    1.969669   \n",
      "4    0.053191  2.386018               1.0  0.006167    1.032634   \n",
      "\n",
      "   zhangs_metric   jaccard  certainty  kulczynski  \n",
      "0       0.579323  0.054726   0.323276    0.258422  \n",
      "1       0.705329  0.054726   0.033897    0.258422  \n",
      "2       0.836911  0.054054   0.038834    0.322208  \n",
      "3       0.691243  0.054054   0.492301    0.322208  \n",
      "4       0.725729  0.050251   0.031603    0.264691  \n"
     ]
    }
   ],
   "source": [
    "#TransactionEncoder适合将数据转换为适合频繁项集挖掘的格式\n",
    "from mlxtend.preprocessing import TransactionEncoder\n",
    "#用来进行关联挖掘\n",
    "from mlxtend.frequent_patterns import apriori, association_rules\n",
    "\n",
    "import warnings\n",
    "\n",
    "# 忽略特定类型的告警\n",
    "warnings.filterwarnings(\"ignore\", category=DeprecationWarning)\n",
    "\n",
    "#再次处理:\n",
    "#由于白米饭是一定需要的，可以把大小白米饭删除 饮品可以考虑是否保留\n",
    "\n",
    "# #获取 列的所有数据，变为List\n",
    "# t=grouped_counts['dishes_name'].tolist()\n",
    "temp_basket=temp_basket.drop('白饭/大碗',axis=1)\n",
    "\n",
    "# 使用Apriori算法进行关联规则挖掘频繁项集\n",
    "# 最小支持度设置为0.01 (可以根据需要调整)\n",
    "frequent_itemsets = apriori(temp_basket, min_support=0.01, use_colnames=True)\n",
    "# 计算频繁项集的总数\n",
    "num_itemsets = len(frequent_itemsets)\n",
    "print(\"频繁项集输出:\")\n",
    "print(frequent_itemsets.sort_values(by='support', ascending=False).head(10))\n",
    "\n",
    "# 根据频繁项集生成关联规则\n",
    "rules = association_rules(frequent_itemsets, metric=\"lift\", min_threshold=1,num_itemsets=num_itemsets)\n",
    "print(\"关联规则:\")\n",
    "print(rules.head(5))\n"
   ]
  },
  {
   "cell_type": "markdown",
   "metadata": {},
   "source": [
    "1. 支持度 (Support)：餐品交易的频繁次数;高支持度的组合可能更受欢迎，因此可能适合作为热门餐品推荐\n",
    "\n",
    "\n",
    "2. 置信度 (Confidence)：已知规则中的“前件”（antecedents）发生时，“后件”（consequents）发生的条件概率。\n",
    "\n",
    "\n",
    "3. 提升度(Lift)：是衡量“前件”和“后件”同时出现的频率与它们各自出现的频率的乘积相比，是更高还是更低。如果提升度大于1，则表示前件和后件之间存在正向关系。(某规则的提升度是2，这意味着前件和后件一起出现的概率是它们各自独立出现概率的两倍。)\n",
    "\n"
   ]
  },
  {
   "cell_type": "markdown",
   "metadata": {},
   "source": [
    "查看支持度的前几项组合"
   ]
  },
  {
   "cell_type": "code",
   "execution_count": 20,
   "metadata": {},
   "outputs": [
    {
     "name": "stdout",
     "output_type": "stream",
     "text": [
      "    antecedents consequents  antecedent support  consequent support   support   \n",
      "465      (辣炒鱿鱼)      (凉拌菠菜)            0.200637            0.285563  0.097665  \\\n",
      "464      (凉拌菠菜)      (辣炒鱿鱼)            0.285563            0.200637  0.097665   \n",
      "411      (凉拌菠菜)       (焖猪手)            0.285563            0.183652  0.087049   \n",
      "410       (焖猪手)      (凉拌菠菜)            0.183652            0.285563  0.087049   \n",
      "483     (麻辣小龙虾)      (凉拌菠菜)            0.229299            0.285563  0.083864   \n",
      "482      (凉拌菠菜)     (麻辣小龙虾)            0.285563            0.229299  0.083864   \n",
      "459      (凉拌菠菜)      (谷稻小庄)            0.285563            0.253715  0.083864   \n",
      "458      (谷稻小庄)      (凉拌菠菜)            0.253715            0.285563  0.083864   \n",
      "449     (蒙古烤羊腿)      (凉拌菠菜)            0.160297            0.285563  0.081741   \n",
      "448      (凉拌菠菜)     (蒙古烤羊腿)            0.285563            0.160297  0.081741   \n",
      "\n",
      "     confidence      lift  representativity  leverage  conviction   \n",
      "465    0.486772  1.704608               1.0  0.040370    1.392048  \\\n",
      "464    0.342007  1.704608               1.0  0.040370    1.214851   \n",
      "411    0.304833  1.659841               1.0  0.034605    1.174319   \n",
      "410    0.473988  1.659841               1.0  0.034605    1.358216   \n",
      "483    0.365741  1.280772               1.0  0.018385    1.126412   \n",
      "482    0.293680  1.280772               1.0  0.018385    1.091150   \n",
      "459    0.293680  1.157518               1.0  0.011412    1.056582   \n",
      "458    0.330544  1.157518               1.0  0.011412    1.067191   \n",
      "449    0.509934  1.785716               1.0  0.035966    1.457838   \n",
      "448    0.286245  1.785716               1.0  0.035966    1.176459   \n",
      "\n",
      "     zhangs_metric   jaccard  certainty  kulczynski  \n",
      "465       0.517105  0.251366   0.281634    0.414390  \n",
      "464       0.578574  0.251366   0.176854    0.414390  \n",
      "411       0.556427  0.227778   0.148443    0.389411  \n",
      "410       0.486964  0.227778   0.263740    0.389411  \n",
      "483       0.284444  0.194581   0.112226    0.329711  \n",
      "482       0.306844  0.194581   0.083536    0.329711  \n",
      "459       0.190475  0.184149   0.053552    0.312112  \n",
      "458       0.182347  0.184149   0.062960    0.312112  \n",
      "449       0.523996  0.224490   0.314053    0.398090  \n",
      "448       0.615870  0.224490   0.149991    0.398090  \n"
     ]
    }
   ],
   "source": [
    "#查看支持度最高的几个项集组合:\n",
    "support_top=rules.sort_values(by='support', ascending=False)\n",
    "# support_top=support_top[['antecedents', 'consequents', 'support', 'confidence', 'lift']]\n",
    "support_top_10=support_top.head(10)\n",
    "print(support_top_10)\n"
   ]
  },
  {
   "cell_type": "markdown",
   "metadata": {},
   "source": [
    "可以看出：(凉拌菠菜)、 (谷稻小庄)、(麻辣小龙虾)、(辣炒鱿鱼)的支持度都在20%以上，可以看成餐饮企业的招牌单点菜品。且企业需要需要注意这些菜品的备菜，防止供货不足。\n",
    "\n",
    "\n",
    "\n",
    "\n",
    "\n"
   ]
  },
  {
   "cell_type": "markdown",
   "metadata": {},
   "source": [
    "绘制一个菜品关联的网络图。通过分析数据集中的频繁模式（即哪些菜品经常一起出现），该图展示了不同菜品之间的关联强度。这种类型的可视化可以帮助餐厅或食品公司了解顾客的购买习惯，从而更好地进行菜单设计、库存管理和市场推广策略制定。\n",
    "\n"
   ]
  },
  {
   "cell_type": "code",
   "execution_count": 21,
   "metadata": {},
   "outputs": [
    {
     "data": {
      "image/png": "[encoded data removed]",
      "text/plain": [
       "<Figure size 640x480 with 1 Axes>"
      ]
     },
     "metadata": {},
     "output_type": "display_data"
    }
   ],
   "source": [
    "import networkx as nx\n",
    "import matplotlib.pyplot as plt\n",
    "plt.rcParams['font.sans-serif']=['SimHei']\n",
    "plt.rcParams['axes.unicode_minus']=False\n",
    "\n",
    "# 创建一个空的有向图\n",
    "G = nx.DiGraph()\n",
    "\n",
    "# 添加节点和边\n",
    "for _, row in support_top_10.iterrows():\n",
    "    antecedents = list(row['antecedents'])[0]  # 取出前项\n",
    "    consequents = list(row['consequents'])[0]  # 取出后项\n",
    "    lift = row['lift']  # 取出提升度\n",
    "    \n",
    "    G.add_node(antecedents, size=100)  # 添加前项节点\n",
    "    G.add_node(consequents, size=100)  # 添加后项节点\n",
    "    G.add_edge(antecedents, consequents, weight=lift)  # 添加边，权重为提升度\n",
    "\n",
    "# 获取节点的位置\n",
    "pos = nx.spring_layout(G, k=0.5, iterations=20)\n",
    "\n",
    "# 绘制节点\n",
    "nx.draw_networkx_nodes(G, pos, node_size=1000, node_color='skyblue')\n",
    "\n",
    "# 绘制边，边的粗细与提升度成正比\n",
    "edges = G.edges(data=True)\n",
    "weights = [G[u][v]['weight'] for u, v in G.edges()]\n",
    "nx.draw_networkx_edges(G, pos, width=weights, edge_color='gray')\n",
    "\n",
    "# 绘制节点的标签\n",
    "nx.draw_networkx_labels(G, pos, font_size=12)\n",
    "\n",
    "# 显示图表\n",
    "plt.title('菜品关联网络图')\n",
    "plt.show()\n"
   ]
  },
  {
   "cell_type": "markdown",
   "metadata": {},
   "source": [
    "由上图可知：凉拌菠菜经常和谷稻小庄、蒙古烤羊腿、焖猪手、辣炒鱿鱼、麻辣小龙虾一起组合点单，是最受客户欢迎的热门套餐组合，说明味道很受客户的喜欢。\n",
    "\n"
   ]
  },
  {
   "cell_type": "markdown",
   "metadata": {},
   "source": [
    "<a id=\"4.2\"></a>\n",
    "\n",
    "## 4.2 对客户价值分析进行模型构建\n",
    "\n"
   ]
  },
  {
   "cell_type": "markdown",
   "metadata": {},
   "source": [
    "<a id=\"4.2.1\"></a>\n",
    "\n",
    "### 4.2.1 构建K-Means模型分析客户的价值\n",
    "\n",
    "将使用 K-Means 算法进行餐饮公司用户分群，最终得到不同特征的客户群。"
   ]
  },
  {
   "cell_type": "markdown",
   "metadata": {},
   "source": [
    "画手肘图进行确认分类类别："
   ]
  },
  {
   "cell_type": "code",
   "execution_count": 22,
   "metadata": {},
   "outputs": [
    {
     "data": {
      "image/png": "[encoded data removed]",
      "text/plain": [
       "<Figure size 800x500 with 1 Axes>"
      ]
     },
     "metadata": {},
     "output_type": "display_data"
    }
   ],
   "source": [
    "#建立Kmeans模型:\n",
    "\n",
    "import numpy as np\n",
    "import pandas as pd\n",
    "from sklearn.cluster import KMeans\n",
    "#获取标准化后的数值  standard\n",
    "\n",
    "sse = []\n",
    "k_range = range(1, 11)  # 测试1到10个聚类\n",
    "for k in k_range:\n",
    "    kmeans = KMeans(n_clusters=k, random_state=42)\n",
    "    kmeans.fit(standard)\n",
    "    sse.append(kmeans.inertia_)  # inertia_ 是聚类内误差平方和\n",
    "\n",
    "# 绘制手肘图\n",
    "plt.figure(figsize=(8, 5))\n",
    "plt.plot(k_range, sse, marker='o', linestyle='-')\n",
    "plt.title('Elbow Method For Optimal k')\n",
    "plt.xlabel('k的个数 (k)')\n",
    "plt.ylabel('SSE')\n",
    "plt.xticks(k_range)\n",
    "plt.show()"
   ]
  },
  {
   "cell_type": "markdown",
   "metadata": {},
   "source": [
    "SSE在K=1到K=3时下降得非常快，之后从K=4开始，SSE的下降趋势明显放缓。这表明在K=3之后，增加更多的聚类数对减少SSE的影响变得不那么显著。因此，根据手肘法，K=3可能是一个合适的聚类数选择。\n",
    "\n",
    "聚类数目设置为3 （客户分为重要客户、一般客户、不太重要客户）"
   ]
  },
  {
   "cell_type": "code",
   "execution_count": 23,
   "metadata": {},
   "outputs": [
    {
     "name": "stdout",
     "output_type": "stream",
     "text": [
      "聚类中心: \n",
      " [[-0.46247917 -0.30329708 -0.31029264]\n",
      " [-1.22280098  1.70981576  1.63072329]\n",
      " [ 0.95856801 -0.55335836 -0.51034304]]\n"
     ]
    }
   ],
   "source": [
    "k=3 #聚类数\n",
    "#建模:\n",
    "kmeans_model=KMeans(n_clusters=k,random_state=100)\n",
    "fit_kmeans=kmeans_model.fit(standard)  #模型训练\n",
    "print('聚类中心: \\n',kmeans_model.cluster_centers_)"
   ]
  },
  {
   "cell_type": "markdown",
   "metadata": {},
   "source": [
    "因此，可以根据k-means聚类来查看不同类别客户群体分别是那些人，进行进一步的客户消费活动来进行客户的拉拢:"
   ]
  },
  {
   "cell_type": "markdown",
   "metadata": {},
   "source": [
    "#### 聚类模型的评价指标：\n",
    "\n",
    "评价聚类模型效果的指标有很多种,其中最常用的有轮廓系数( Silhouette Coefficient,SC) 、卡林斯\n",
    "基-哈拉巴斯指数( Calinski-Harabasz Index,CHI) 、兰德指数( Rand Index,RI) 、戴维森堡丁指数( Davies-\n",
    "Bouldin Index,DBI) 以及权变矩阵( Contingency Matrix,CM) 等。 \n",
    "\n",
    "本文使用轮廓系数 SC、CHI 和 DBI 作为评价指标\n",
    "\n",
    "轮廓系数用于衡量一个样本与其所在簇中其他样本的相似程度。轮廓系数的取值范围为[ - 1,1],数据集的轮廓系数为所有样本轮廓系数的平均值。 计算出的结果越接近 1,表明聚类的效果越优秀;\n",
    "\n",
    "CHI( k) 指各个簇之间离散程度与簇内离散程度的比率。CHI( k) 越大,说明聚类效果越好\n",
    "\n",
    "DBI 是样本类内距离和类之间距离的比率。DBI 的值小,说明类内的距离小、类之间的距离大,聚类的效果好。\n"
   ]
  },
  {
   "cell_type": "code",
   "execution_count": 24,
   "metadata": {},
   "outputs": [
    {
     "name": "stdout",
     "output_type": "stream",
     "text": [
      "平均轮廓系数: 0.3917993032244936\n",
      "Calinski-Harabasz Index: 594.3788190163057\n",
      "Davies-Bouldin Index: 0.8405048947267393\n"
     ]
    }
   ],
   "source": [
    "# 计算轮廓系数\n",
    "from sklearn.metrics import silhouette_score\n",
    "labels = kmeans.labels_\n",
    "silhouette_avg = silhouette_score(standard, labels)\n",
    "print(f'平均轮廓系数: {silhouette_avg}')\n",
    "\n",
    "#计算CHI(越大越好):\n",
    "from sklearn.metrics import calinski_harabasz_score\n",
    "# 计算Calinski-Harabasz Index\n",
    "chi = calinski_harabasz_score(standard, labels)\n",
    "print(f'Calinski-Harabasz Index: {chi}')\n",
    "\n",
    "# 计算DBI(越小越好):\n",
    "from sklearn.metrics import davies_bouldin_score\n",
    "dbi = davies_bouldin_score(standard, labels)\n",
    "print(f'Davies-Bouldin Index: {dbi}')\n",
    "\n"
   ]
  },
  {
   "cell_type": "markdown",
   "metadata": {},
   "source": [
    "以雷达图来展示不同客户群体的特征"
   ]
  },
  {
   "cell_type": "code",
   "execution_count": 25,
   "metadata": {},
   "outputs": [
    {
     "data": {
      "image/png": "[encoded data removed]",
      "text/plain": [
       "<Figure size 700x500 with 1 Axes>"
      ]
     },
     "metadata": {},
     "output_type": "display_data"
    }
   ],
   "source": [
    "%matplotlib inline\n",
    "import matplotlib.pyplot as plt\n",
    "import numpy as np\n",
    "\n",
    "# 设置中文和负号的正常显示\n",
    "plt.rcParams['font.sans-serif'] = 'SimHei'\n",
    "plt.rcParams['axes.unicode_minus'] = False\n",
    "\n",
    "# 绘制雷达图\n",
    "# 获取第一个聚类中心的特征数量\n",
    "N = len(kmeans_model.cluster_centers_[0])\n",
    "\n",
    "# 设置雷达图的角度，用于平分切开一个圆面\n",
    "angles = np.linspace(0, 2 * np.pi, N, endpoint=False)\n",
    "# 为了使雷达图一圈封闭起来，将起始点添加到结尾\n",
    "angles = np.concatenate((angles, [angles[0]]))\n",
    "\n",
    "# 创建图形\n",
    "fig = plt.figure(figsize=(7, 5))\n",
    "# 创建一个极坐标图(雷达图)\n",
    "ax = fig.add_subplot(111, polar=True)\n",
    "# 定义颜色\n",
    "sam = ['r', 'g', 'b']\n",
    "# 定义线形\n",
    "lstyle = ['-', '--', '-.']\n",
    "\n",
    "# 用于存储各个客户群的标签\n",
    "lab = []\n",
    "feature = ['R', 'F', 'M']\n",
    "# 确保封闭的圆形特征标签\n",
    "feature.append(feature[0])\n",
    "\n",
    "for i in range(len(kmeans_model.cluster_centers_)):\n",
    "    values = kmeans_model.cluster_centers_[i]\n",
    "    # 封闭圆形数据\n",
    "    values = np.concatenate((values, [values[0]]))\n",
    "    # 绘制折线图\n",
    "    ax.plot(angles, values, color=sam[i], linestyle=lstyle[i], linewidth=2, markersize=10, label=f'客户群{i+1}')\n",
    "    ax.fill(angles, values, color=sam[i], alpha=0.5)  # 填充颜色\n",
    "\n",
    "# 设置特征标签\n",
    "ax.set_thetagrids(angles * 180 / np.pi, feature, fontsize=15)\n",
    "\n",
    "# 添加标题和网格线\n",
    "plt.title('客户群特征分布图')\n",
    "ax.grid(True)\n",
    "\n",
    "# 添加图例，设置在最佳位置\n",
    "plt.legend(loc='best')\n",
    "plt.show()\n",
    "plt.close()"
   ]
  },
  {
   "cell_type": "markdown",
   "metadata": {},
   "source": [
    "针对聚类结果，如图所示，客户群2的F、M特征值最大，R特征值最小;客户群1的F、M、R特征值较小;客户群3的R特征值最大，F、M特征值最小。\n",
    "\n",
    "结合业务分析，通过比较各个特征在群间的大小对某一个群的特征进行评价分析。如客户群2的F、M特征值最大，R特征值最小，则可以认为F、M在群2是优势特征;以此类推，F、M在群3是劣势特征。"
   ]
  },
  {
   "cell_type": "markdown",
   "metadata": {},
   "source": [
    "通过上代码和上表可以看出，每个客户群的都有显著不同的表现特征，基于该特征描述，本案例定义3个等级的客户类别:重要保持客户、一般价值客户、低价值客户。每个客户类别的特征如下。\n",
    "\n",
    "(1)重要保持客户。这类客户用餐的次数(F)和用餐总花费(M)较高，且最近在餐厅消费时间长度(R)低。他们是餐饮企业的高价值客户，是最为理想的客户类型，对企业的贡献最大，但是所占比例却最小。对这类客户，餐饮企业可以制定一对一的服务，以提高这类客户的忠诚度与满意度，尽可能延长这类客户的高水平消费。\n",
    "\n",
    "(2)一般价值客户。这类客户用餐的次数(F)和用餐总花费(M)较低，且最近在餐厅消费时间长度(R)较低。他们是一般价值客户，虽然当前价值并不是特别高，但却有较大的发展潜力。餐饮企业可以不定期的制定相应的营销策略，刺激这类客户的消费，加强这类客户的满意度。\n",
    "\n",
    "(3)低价值客户。这类客户用餐的次数(F)和用餐总花费(M)较低，且最近在餐厅消费时间长度(R)较高。他们是餐饮企业的低价值客户，可能是某一次经过顺便消费的，也可能是因为刚开业时有折扣所以才来本店消费，之后来消费的概率比较小。"
   ]
  },
  {
   "cell_type": "markdown",
   "metadata": {},
   "source": [
    "因此：\n",
    "\n",
    "客户群1的F、M、R特征值较小，是一般价值客户；\n",
    "\n",
    "客户群2的F、M特征值最大，R特征值最小，是重要保持客户；\n",
    "\n",
    "客户群3的R特征值最大，F、M特征值最小，是低价值客户。\n",
    "\n",
    "\n"
   ]
  },
  {
   "cell_type": "code",
   "execution_count": 26,
   "metadata": {},
   "outputs": [
    {
     "data": {
      "image/png": "[encoded data removed]",
      "text/plain": [
       "<Figure size 800x500 with 1 Axes>"
      ]
     },
     "metadata": {},
     "output_type": "display_data"
    }
   ],
   "source": [
    "#画餐饮企业原不同客户群体的占比：\n",
    "# 计算每个类别的样本数量\n",
    "labels = fit_kmeans.labels_\n",
    "cluster_counts = np.bincount(labels)\n",
    "\n",
    "# 计算每个类别的占比\n",
    "cluster_proportions = cluster_counts / len(labels)\n",
    "\n",
    "# 绘制饼图\n",
    "plt.figure(figsize=(8, 5))\n",
    "plt.pie(cluster_proportions, labels=[f'客户群 {i+1}' for i in range(k)], autopct='%1.1f%%', startangle=140\n",
    "        )\n",
    "plt.title('不同客户群体的占比')\n",
    "plt.show()"
   ]
  },
  {
   "cell_type": "markdown",
   "metadata": {},
   "source": [
    "可以看出在该餐饮企业的客户群体中，客户群2(重要保持客户)占20.5%，客户群1(一般价值客户)占36%，客户群3(低价值客户)占43.5%。因此企业需要进一步对重要保持客户进行推送活动优惠，吸引客户的消费。"
   ]
  },
  {
   "cell_type": "markdown",
   "metadata": {},
   "source": []
  },
  {
   "cell_type": "markdown",
   "metadata": {},
   "source": [
    "### 4.2.2 DBSCAN进行分类\n"
   ]
  },
  {
   "cell_type": "code",
   "execution_count": 27,
   "metadata": {},
   "outputs": [],
   "source": [
    "import pandas as pd\n",
    "import numpy as np\n",
    "from sklearn.preprocessing import StandardScaler\n",
    "from sklearn.cluster import DBSCAN\n",
    "import matplotlib.pyplot as plt\n",
    "\n",
    "\n",
    "#standard是RFM模型的三个特征标准化后的结果"
   ]
  },
  {
   "cell_type": "markdown",
   "metadata": {},
   "source": [
    "eps值不应该大于数据集中任意两个最近点之间的最大距离  ： eps< min(任意两点的最大距离)\n",
    "\n",
    "先根据RFM模型标准化后的特征，求出任意两点之间的最大距离，用来限制eps\n",
    "\n"
   ]
  },
  {
   "cell_type": "code",
   "execution_count": 28,
   "metadata": {},
   "outputs": [
    {
     "name": "stdout",
     "output_type": "stream",
     "text": [
      "任意两个点之间的最小最大距离为: 4.988860864360426\n"
     ]
    }
   ],
   "source": [
    "from scipy.spatial.distance import cdist\n",
    "\n",
    "# 计算所有点对之间的欧氏距离\n",
    "distances = cdist(standard, standard, metric='euclidean')\n",
    "\n",
    "# 初始化变量以存储当前发现的最大距离中的最小值\n",
    "min_max_distance = float('inf')\n",
    "\n",
    "# 初始化一个数组用于保存每个点到其他所有点的最大距离\n",
    "max_distances = []\n",
    "\n",
    "# 对于每一个点，找到它与其他所有点的最大距离\n",
    "for i in range(len(standard)):\n",
    "    max_dist_for_point = 0\n",
    "    for j in range(len(standard)):\n",
    "        if i != j and distances[i][j] > max_dist_for_point:\n",
    "            max_dist_for_point = distances[i][j]\n",
    "    max_distances.append(max_dist_for_point)\n",
    "\n",
    "# 在所有点的最大距离中找到最小的那个\n",
    "min_max_distance = min(max_distances)\n",
    "\n",
    "print(\"任意两个点之间的最小最大距离为:\", min_max_distance)\n"
   ]
  },
  {
   "cell_type": "markdown",
   "metadata": {},
   "source": [
    "因此eps最大不能超过 4.988"
   ]
  },
  {
   "cell_type": "markdown",
   "metadata": {},
   "source": [
    "#### 参数选取1(基础默认法)：K-Distance 图判断eps\n",
    "\n",
    "定K邻域参数k,对于数据中的每个点，计算对应的第k个最近邻域距离，并将数据集所有点对应的最近邻域距离按照降序方式排序，称这幅图为排序的k距离图，选择该图中第一个谷值点位置对应的k距离值设定为Eps.\n",
    "\n",
    "\n",
    "eps由K-Distance图的拐点决定，而minpits由 k+1确定\n",
    "\n",
    "MinPts的选取有一个指导性的原则(a rule of thumb)，MinPts≥dim+1,其中dim表示待聚类数据的维度。MinPts设置为1是不合理的，因为设置为1，则每个独立点都是一个簇，MinPts≤2时，与层次距离最近邻域结果相同，因此，MinPts必须选择大于等于3的值。若该值选取过小，则稀疏簇中结果由于密度小于MinPts，从而被认为是边界点儿不被用于在类的进一步扩展；若该值过大，则密度较大的两个邻近簇可能被合并为同一簇。因此，该值是否设置适当会对聚类结果造成较大影响。\n"
   ]
  },
  {
   "cell_type": "code",
   "execution_count": 29,
   "metadata": {},
   "outputs": [
    {
     "data": {
      "image/png": "[encoded data removed]",
      "text/plain": [
       "<Figure size 640x480 with 1 Axes>"
      ]
     },
     "metadata": {},
     "output_type": "display_data"
    }
   ],
   "source": [
    "# 用csdn的函数\n",
    "def select_MinPts(data,k):\n",
    "    k_dist = []\n",
    "    for i in range(data.shape[0]):\n",
    "        dist = (((data[i] - data)**2).sum(axis=1)**0.5)\n",
    "        dist.sort()\n",
    "        k_dist.append(dist[k])\n",
    "    return np.array(k_dist)\n",
    "k = 5  # 此处k取 2*3 -1 \n",
    "k_dist = select_MinPts(standard,k)\n",
    "k_dist.sort()\n",
    "plt.plot(np.arange(k_dist.shape[0]),k_dist[::-1])\n",
    "# 由拐点确定邻域半径\n",
    "eps = k_dist[::-1][15]\n",
    "plt.scatter(15,eps,color=\"r\")\n",
    "plt.plot([0,15],[eps,eps],linestyle=\"--\",color = \"r\")\n",
    "plt.plot([15,15],[0,eps],linestyle=\"--\",color = \"r\")\n",
    "plt.show()\n"
   ]
  },
  {
   "cell_type": "markdown",
   "metadata": {},
   "source": [
    "如果标签为-1，则表示这些点被认为是噪声点，用灰色标记它们，并设置透明度为0.5。"
   ]
  },
  {
   "cell_type": "code",
   "execution_count": 31,
   "metadata": {},
   "outputs": [
    {
     "name": "stdout",
     "output_type": "stream",
     "text": [
      "Calinski-Harabasz Index: 390.6395241383062\n",
      "Davies-Bouldin Index: 0.9527667599740485\n"
     ]
    }
   ],
   "source": [
    "# 定义DBSCAN模型\n",
    "dbscan = DBSCAN(eps=0.25, min_samples=11)  # eps和min_samples的值需要根据具体数据调整\n",
    "\n",
    "# 拟合模型\n",
    "labels = dbscan.fit_predict(standard)\n",
    "#模型评估:\n",
    "# 计算CHI\n",
    "chi = calinski_harabasz_score(standard, labels)\n",
    "print(f'Calinski-Harabasz Index: {chi}')\n",
    "\n",
    "# 计算DBI\n",
    "dbi = davies_bouldin_score(standard, labels)\n",
    "print(f'Davies-Bouldin Index: {dbi}')\n",
    "\n",
    "\n",
    "\n",
    "# 添加标签到原始数据框\n",
    "user_value['Cluster'] = labels"
   ]
  },
  {
   "cell_type": "code",
   "execution_count": 33,
   "metadata": {},
   "outputs": [
    {
     "name": "stdout",
     "output_type": "stream",
     "text": [
      "簇分布:\n",
      " Cluster\n",
      " 0    277\n",
      "-1    192\n",
      "Name: count, dtype: int64\n"
     ]
    },
    {
     "data": {
      "image/png": "[encoded data removed]",
      "text/plain": [
       "<Figure size 1000x600 with 1 Axes>"
      ]
     },
     "metadata": {},
     "output_type": "display_data"
    }
   ],
   "source": [
    "#结果分析\n",
    "\n",
    "# 统计每个簇的数量\n",
    "cluster_counts = user_value['Cluster'].value_counts()\n",
    "\n",
    "# 打印结果\n",
    "print(\"簇分布:\\n\", cluster_counts)\n",
    "\n",
    "# 可视化结果\n",
    "plt.figure(figsize=(10, 6))\n",
    "for c in set(labels):\n",
    "    if c == -1:  # -1代表噪声点\n",
    "        plt.scatter(standard[labels == c, 0], standard[labels == c, 1], c='gray', alpha=0.5, label='Noise')\n",
    "    else:\n",
    "        plt.scatter(standard[labels == c, 0], standard[labels == c, 1], alpha=0.75, label=f'Cluster {c}')\n",
    "plt.title('K-distance后的DBSCAN聚类结果')\n",
    "plt.legend()\n",
    "plt.show()"
   ]
  },
  {
   "cell_type": "markdown",
   "metadata": {},
   "source": [
    "发现：当轮廓系数相对较好的时候，基本都是只有噪声点 和 一个有效簇"
   ]
  },
  {
   "cell_type": "markdown",
   "metadata": {},
   "source": [
    "<a id=\"总结\"></a>\n",
    "\n",
    "# 5.总结"
   ]
  },
  {
   "cell_type": "markdown",
   "metadata": {},
   "source": [
    "因此，本文有效地对餐饮企业的客户和菜品数据进行了深入分析。通过关联分析和聚类分析，我们不仅发现了菜品之间的关联规则，还识别了不同价值的客户群体。这些分析结果对于企业优化菜单结构、提高客户满意度和增强市场竞争力具有重要的指导意义。餐饮企业可以根据这些分析结果调整营销策略，提高运营效率和盈利能力。"
   ]
  },
  {
   "cell_type": "markdown",
   "metadata": {},
   "source": [
    "在未来的工作中，可以需要考虑引入更多维度的数据，如客户满意度调查、市场竞争情况等，进行更全面的分析。也需要考虑时间序列分析，研究客户行为和菜品销售随时间的变化趋势。"
   ]
  }
 ],
 "metadata": {
  "kernelspec": {
   "display_name": "Python 3",
   "language": "python",
   "name": "python3"
  },
  "language_info": {
   "codemirror_mode": {
    "name": "ipython",
    "version": 3
   },
   "file_extension": ".py",
   "mimetype": "text/x-python",
   "name": "python",
   "nbconvert_exporter": "python",
   "pygments_lexer": "ipython3",
   "version": "3.11.3"
  }
 },
 "nbformat": 4,
 "nbformat_minor": 2
}
